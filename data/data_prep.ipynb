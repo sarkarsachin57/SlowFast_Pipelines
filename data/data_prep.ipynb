{
 "cells": [
  {
   "cell_type": "code",
   "execution_count": null,
   "id": "f45f5372-ca8c-4b75-aa96-e3e101ce4af9",
   "metadata": {},
   "outputs": [],
   "source": []
  },
  {
   "cell_type": "code",
   "execution_count": 118,
   "id": "488211d8-c13b-48cc-a0c4-86a66c6f8594",
   "metadata": {},
   "outputs": [
    {
     "name": "stdout",
     "output_type": "stream",
     "text": [
      "/workdir/sachin/temp_analysis/SlowFast_Pipelines/data\n"
     ]
    }
   ],
   "source": [
    "!pwd"
   ]
  },
  {
   "cell_type": "code",
   "execution_count": 2,
   "id": "b5afde0f-b2e5-471a-9f2a-e744e86aad99",
   "metadata": {},
   "outputs": [
    {
     "name": "stdout",
     "output_type": "stream",
     "text": [
      "ava  ava_annotations.tar  data_prep.ipynb  daycare_fall\n"
     ]
    }
   ],
   "source": [
    "!ls"
   ]
  },
  {
   "cell_type": "code",
   "execution_count": 117,
   "id": "09594aa8-6fd1-487e-888e-058c80577cb1",
   "metadata": {},
   "outputs": [
    {
     "name": "stdout",
     "output_type": "stream",
     "text": [
      "/workdir/sachin/temp_analysis/SlowFast_Pipelines/data\n"
     ]
    }
   ],
   "source": [
    "!pwd"
   ]
  },
  {
   "cell_type": "code",
   "execution_count": 3,
   "id": "54f27595-ae7c-4a2b-b35a-a36af3d22f5d",
   "metadata": {},
   "outputs": [],
   "source": [
    "import pandas as pd\n",
    "import numpy as np\n",
    "import cv2, random, os, shutil\n",
    "from tqdm import tqdm\n",
    "from PIL import Image"
   ]
  },
  {
   "cell_type": "code",
   "execution_count": 25,
   "id": "394ca657-8260-4f2d-bfa6-8cc0e0b10039",
   "metadata": {},
   "outputs": [
    {
     "name": "stdout",
     "output_type": "stream",
     "text": [
      "ava_action_list_v2.2_for_activitynet_2019.pbtxt  excluded.csv\n",
      "ava_train_tiny_v2.2.csv\t\t\t\t train_tiny.csv\n",
      "ava_val_tiny_v2.2.csv\t\t\t\t val_tiny.csv\n"
     ]
    }
   ],
   "source": [
    "!ls ava/annotations  "
   ]
  },
  {
   "cell_type": "code",
   "execution_count": 119,
   "id": "00a59f51-a0f4-4b1d-839b-cc818ba09092",
   "metadata": {},
   "outputs": [
    {
     "data": {
      "text/html": [
       "<div>\n",
       "<style scoped>\n",
       "    .dataframe tbody tr th:only-of-type {\n",
       "        vertical-align: middle;\n",
       "    }\n",
       "\n",
       "    .dataframe tbody tr th {\n",
       "        vertical-align: top;\n",
       "    }\n",
       "\n",
       "    .dataframe thead th {\n",
       "        text-align: right;\n",
       "    }\n",
       "</style>\n",
       "<table border=\"1\" class=\"dataframe\">\n",
       "  <thead>\n",
       "    <tr style=\"text-align: right;\">\n",
       "      <th></th>\n",
       "      <th>video_id</th>\n",
       "      <th>timestamp</th>\n",
       "      <th>x1</th>\n",
       "      <th>y1</th>\n",
       "      <th>x2</th>\n",
       "      <th>y2</th>\n",
       "      <th>class</th>\n",
       "    </tr>\n",
       "  </thead>\n",
       "  <tbody>\n",
       "    <tr>\n",
       "      <th>0</th>\n",
       "      <td>AaravFall-2022-02-22-13-34.mp4</td>\n",
       "      <td>10</td>\n",
       "      <td>0.33203</td>\n",
       "      <td>0.46528</td>\n",
       "      <td>0.40391</td>\n",
       "      <td>0.57361</td>\n",
       "      <td>fall</td>\n",
       "    </tr>\n",
       "    <tr>\n",
       "      <th>1</th>\n",
       "      <td>AaravFall-2022-02-22-13-34.mp4</td>\n",
       "      <td>10</td>\n",
       "      <td>0.13906</td>\n",
       "      <td>0.56389</td>\n",
       "      <td>0.19687</td>\n",
       "      <td>0.69167</td>\n",
       "      <td>other</td>\n",
       "    </tr>\n",
       "    <tr>\n",
       "      <th>2</th>\n",
       "      <td>AaravFall-2022-02-22-13-34.mp4</td>\n",
       "      <td>11</td>\n",
       "      <td>0.31875</td>\n",
       "      <td>0.46528</td>\n",
       "      <td>0.42344</td>\n",
       "      <td>0.58333</td>\n",
       "      <td>fall</td>\n",
       "    </tr>\n",
       "    <tr>\n",
       "      <th>3</th>\n",
       "      <td>AaravFall-2022-02-22-13-34.mp4</td>\n",
       "      <td>11</td>\n",
       "      <td>0.62422</td>\n",
       "      <td>0.43611</td>\n",
       "      <td>0.67266</td>\n",
       "      <td>0.54722</td>\n",
       "      <td>sitting</td>\n",
       "    </tr>\n",
       "    <tr>\n",
       "      <th>4</th>\n",
       "      <td>AaravFall-2022-02-22-13-34.mp4</td>\n",
       "      <td>11</td>\n",
       "      <td>0.13672</td>\n",
       "      <td>0.56806</td>\n",
       "      <td>0.20078</td>\n",
       "      <td>0.69722</td>\n",
       "      <td>other</td>\n",
       "    </tr>\n",
       "  </tbody>\n",
       "</table>\n",
       "</div>"
      ],
      "text/plain": [
       "                         video_id  timestamp       x1       y1       x2  \\\n",
       "0  AaravFall-2022-02-22-13-34.mp4         10  0.33203  0.46528  0.40391   \n",
       "1  AaravFall-2022-02-22-13-34.mp4         10  0.13906  0.56389  0.19687   \n",
       "2  AaravFall-2022-02-22-13-34.mp4         11  0.31875  0.46528  0.42344   \n",
       "3  AaravFall-2022-02-22-13-34.mp4         11  0.62422  0.43611  0.67266   \n",
       "4  AaravFall-2022-02-22-13-34.mp4         11  0.13672  0.56806  0.20078   \n",
       "\n",
       "        y2    class  \n",
       "0  0.57361     fall  \n",
       "1  0.69167    other  \n",
       "2  0.58333     fall  \n",
       "3  0.54722  sitting  \n",
       "4  0.69722    other  "
      ]
     },
     "execution_count": 119,
     "metadata": {},
     "output_type": "execute_result"
    }
   ],
   "source": [
    "seacacus_labels_df = pd.read_csv(\"daycare_fall/Secaucus_data/seacacus.xlsx - Sheet1.csv\")\n",
    "seacacus_labels_df.head()"
   ]
  },
  {
   "cell_type": "code",
   "execution_count": 139,
   "id": "76352ce6-d9a1-465f-85dd-be410a948392",
   "metadata": {},
   "outputs": [],
   "source": [
    "!rm -r daycare_fall/Secaucus_data/merge_videos"
   ]
  },
  {
   "cell_type": "code",
   "execution_count": 141,
   "id": "e93e1209-174d-4fee-8297-a739ee095ca5",
   "metadata": {},
   "outputs": [],
   "source": [
    "src = \"daycare_fall/Secaucus_data/Secaucus\"\n",
    "dest = \"daycare_fall/Secaucus_data/merge_videos\"\n",
    "os.makedirs(dest, exist_ok=True)\n",
    "for vid_name in seacacus_labels_df[\"video_id\"].unique().tolist():\n",
    "    src_path = os.path.join(src, vid_name)\n",
    "    shutil.copy(src_path, dest)"
   ]
  },
  {
   "cell_type": "code",
   "execution_count": 120,
   "id": "3c9cf848-7636-49b6-adea-69f8bd154a13",
   "metadata": {},
   "outputs": [
    {
     "data": {
      "text/html": [
       "<div>\n",
       "<style scoped>\n",
       "    .dataframe tbody tr th:only-of-type {\n",
       "        vertical-align: middle;\n",
       "    }\n",
       "\n",
       "    .dataframe tbody tr th {\n",
       "        vertical-align: top;\n",
       "    }\n",
       "\n",
       "    .dataframe thead th {\n",
       "        text-align: right;\n",
       "    }\n",
       "</style>\n",
       "<table border=\"1\" class=\"dataframe\">\n",
       "  <thead>\n",
       "    <tr style=\"text-align: right;\">\n",
       "      <th></th>\n",
       "      <th>video_id</th>\n",
       "      <th>timestamp</th>\n",
       "      <th>x1</th>\n",
       "      <th>y1</th>\n",
       "      <th>x2</th>\n",
       "      <th>y2</th>\n",
       "      <th>class</th>\n",
       "    </tr>\n",
       "  </thead>\n",
       "  <tbody>\n",
       "    <tr>\n",
       "      <th>0</th>\n",
       "      <td>AMIncident-2024-04-10-16-19.mp4</td>\n",
       "      <td>89</td>\n",
       "      <td>0.411</td>\n",
       "      <td>0.495</td>\n",
       "      <td>0.037</td>\n",
       "      <td>0.250</td>\n",
       "      <td>standing</td>\n",
       "    </tr>\n",
       "    <tr>\n",
       "      <th>1</th>\n",
       "      <td>AMIncident-2024-04-10-16-19.mp4</td>\n",
       "      <td>89</td>\n",
       "      <td>0.249</td>\n",
       "      <td>0.355</td>\n",
       "      <td>0.064</td>\n",
       "      <td>0.175</td>\n",
       "      <td>walking</td>\n",
       "    </tr>\n",
       "    <tr>\n",
       "      <th>2</th>\n",
       "      <td>AMIncident-2024-04-10-16-19.mp4</td>\n",
       "      <td>89</td>\n",
       "      <td>0.130</td>\n",
       "      <td>0.290</td>\n",
       "      <td>0.023</td>\n",
       "      <td>0.150</td>\n",
       "      <td>standing</td>\n",
       "    </tr>\n",
       "    <tr>\n",
       "      <th>3</th>\n",
       "      <td>AMIncident-2024-04-10-16-19.mp4</td>\n",
       "      <td>89</td>\n",
       "      <td>0.188</td>\n",
       "      <td>0.210</td>\n",
       "      <td>0.028</td>\n",
       "      <td>0.150</td>\n",
       "      <td>standing</td>\n",
       "    </tr>\n",
       "    <tr>\n",
       "      <th>4</th>\n",
       "      <td>AMIncident-2024-04-10-16-19.mp4</td>\n",
       "      <td>89</td>\n",
       "      <td>0.230</td>\n",
       "      <td>0.241</td>\n",
       "      <td>0.031</td>\n",
       "      <td>0.128</td>\n",
       "      <td>sitting</td>\n",
       "    </tr>\n",
       "  </tbody>\n",
       "</table>\n",
       "</div>"
      ],
      "text/plain": [
       "                          video_id  timestamp     x1     y1     x2     y2  \\\n",
       "0  AMIncident-2024-04-10-16-19.mp4         89  0.411  0.495  0.037  0.250   \n",
       "1  AMIncident-2024-04-10-16-19.mp4         89  0.249  0.355  0.064  0.175   \n",
       "2  AMIncident-2024-04-10-16-19.mp4         89  0.130  0.290  0.023  0.150   \n",
       "3  AMIncident-2024-04-10-16-19.mp4         89  0.188  0.210  0.028  0.150   \n",
       "4  AMIncident-2024-04-10-16-19.mp4         89  0.230  0.241  0.031  0.128   \n",
       "\n",
       "      class  \n",
       "0  standing  \n",
       "1   walking  \n",
       "2  standing  \n",
       "3  standing  \n",
       "4   sitting  "
      ]
     },
     "execution_count": 120,
     "metadata": {},
     "output_type": "execute_result"
    }
   ],
   "source": [
    "florham_park_labels_df = pd.read_csv(\"daycare_fall/Secaucus_data/florhampark - florhampark.csv\")\n",
    "florham_park_labels_df.head()"
   ]
  },
  {
   "cell_type": "code",
   "execution_count": 140,
   "id": "0a49e7e1-f8f0-4c39-920c-491ceb79ec1a",
   "metadata": {},
   "outputs": [],
   "source": [
    "src = \"daycare_fall/Secaucus_data/Florham Park\"\n",
    "dest = \"daycare_fall/Secaucus_data/merge_videos\"\n",
    "os.makedirs(dest, exist_ok=True)\n",
    "for vid_name in florham_park_labels_df[\"video_id\"].unique().tolist():\n",
    "    src_path = os.path.join(src, vid_name)\n",
    "    shutil.copy(src_path, dest)"
   ]
  },
  {
   "cell_type": "code",
   "execution_count": 142,
   "id": "5e72df94-7998-41bb-ad29-3b2376143816",
   "metadata": {},
   "outputs": [],
   "source": [
    "merge_labels_df = pd.concat([seacacus_labels_df, florham_park_labels_df])"
   ]
  },
  {
   "cell_type": "code",
   "execution_count": 128,
   "id": "365b452c-5ad7-4887-af1d-467ad34f29c6",
   "metadata": {},
   "outputs": [
    {
     "data": {
      "text/plain": [
       "class\n",
       "standing    305\n",
       "sitting     296\n",
       "fall         53\n",
       "crawling     29\n",
       "sleeping     25\n",
       "eating       21\n",
       "walking      16\n",
       "others        8\n",
       "other         6\n",
       "jumping       2\n",
       "Name: count, dtype: int64"
      ]
     },
     "execution_count": 128,
     "metadata": {},
     "output_type": "execute_result"
    }
   ],
   "source": [
    "seacacus_labels_df[\"class\"].value_counts()"
   ]
  },
  {
   "cell_type": "code",
   "execution_count": 127,
   "id": "9aa169d5-37bb-4424-b644-7659be2f49b7",
   "metadata": {},
   "outputs": [
    {
     "data": {
      "text/plain": [
       "class\n",
       "sitting     207\n",
       "standing    201\n",
       "walking      63\n",
       "crawling     35\n",
       "fall         31\n",
       "others        7\n",
       "Name: count, dtype: int64"
      ]
     },
     "execution_count": 127,
     "metadata": {},
     "output_type": "execute_result"
    }
   ],
   "source": [
    "florham_park_labels_df[\"class\"].value_counts()"
   ]
  },
  {
   "cell_type": "code",
   "execution_count": 145,
   "id": "025812b4-d6c6-4e15-b691-34eb76ab99e1",
   "metadata": {},
   "outputs": [
    {
     "data": {
      "text/plain": [
       "class\n",
       "standing    506\n",
       "sitting     503\n",
       "fall         84\n",
       "walking      79\n",
       "crawling     64\n",
       "sleeping     25\n",
       "eating       21\n",
       "others       15\n",
       "other         6\n",
       "jumping       2\n",
       "Name: count, dtype: int64"
      ]
     },
     "execution_count": 145,
     "metadata": {},
     "output_type": "execute_result"
    }
   ],
   "source": [
    "merge_labels_df[\"class\"].value_counts()"
   ]
  },
  {
   "cell_type": "code",
   "execution_count": 51,
   "id": "1f30b5fd-d0d5-46b0-a013-8bda0788ceb7",
   "metadata": {},
   "outputs": [
    {
     "data": {
      "text/plain": [
       "['fall',\n",
       " 'other',\n",
       " 'sitting',\n",
       " 'standing',\n",
       " 'crawling',\n",
       " 'walking',\n",
       " 'jumping',\n",
       " 'sleeping',\n",
       " 'eating',\n",
       " 'others']"
      ]
     },
     "execution_count": 51,
     "metadata": {},
     "output_type": "execute_result"
    }
   ],
   "source": [
    "seacacus_labels_df[\"class\"].unique().tolist()"
   ]
  },
  {
   "cell_type": "code",
   "execution_count": 55,
   "id": "209c940f-5ae6-4202-b5fd-fd301ad1775f",
   "metadata": {},
   "outputs": [
    {
     "data": {
      "text/plain": [
       "10"
      ]
     },
     "execution_count": 55,
     "metadata": {},
     "output_type": "execute_result"
    }
   ],
   "source": [
    "len(seacacus_labels_df[\"class\"].unique().tolist())"
   ]
  },
  {
   "cell_type": "code",
   "execution_count": 146,
   "id": "17dd326d-85d5-4ce3-a6fe-aa7b4e897b77",
   "metadata": {},
   "outputs": [],
   "source": [
    "action_class_list = [\"fall\", \"standing\", \"sitting\", \"walking\", \"crawling\", \"sleeping\", \"eating\", \"jumping\", \"others\"]"
   ]
  },
  {
   "cell_type": "code",
   "execution_count": 147,
   "id": "a84f6526-e52e-4cd3-9b80-56cb04ca1f4a",
   "metadata": {},
   "outputs": [
    {
     "data": {
      "text/plain": [
       "9"
      ]
     },
     "execution_count": 147,
     "metadata": {},
     "output_type": "execute_result"
    }
   ],
   "source": [
    "len(action_class_list)"
   ]
  },
  {
   "cell_type": "code",
   "execution_count": 148,
   "id": "754d999d-d4b2-4e89-b1fa-e945c949969f",
   "metadata": {},
   "outputs": [],
   "source": [
    "# video_list = seacacus_labels_df[\"video_id\"].unique()\n",
    "video_list = merge_labels_df[\"video_id\"].unique()"
   ]
  },
  {
   "cell_type": "code",
   "execution_count": null,
   "id": "549be04f-a507-4df1-bc63-ae96dda3f115",
   "metadata": {},
   "outputs": [],
   "source": []
  },
  {
   "cell_type": "code",
   "execution_count": 32,
   "id": "a8aca9cd-10f5-4a67-ae59-c20f17cf53eb",
   "metadata": {
    "scrolled": true
   },
   "outputs": [
    {
     "name": "stdout",
     "output_type": "stream",
     "text": [
      "AaravFall-2022-02-22-13-34.mp4\n",
      "Alexa1-2019-05-20-12-38.mp4\n",
      "Alexasboyfriendpart2-2019-05-20-13-56.mp4\n",
      "Arjun-2021-09-02-10-15.mp4\n",
      "Arjun-2021-09-02-10-17.mp4\n",
      "Avyukt-Fall-2023-06-02-15-53.mp4\n",
      "Chair-ViditFriday113-2023-11-03-10-36.mp4\n",
      "CrystalandKabir-2023-11-10-11-33.mp4\n",
      "Daniella-2022-12-12-17-00.mp4\n",
      "DanielleNap-2022-06-21-14-41.mp4\n",
      "DanielleTable-2021-09-03-16-10.mp4\n",
      "DevDarlene-2020-01-16-14-21.mp4\n",
      "DianaLuke-2019-02-21-14-48.mp4\n",
      "Easton-2022-08-24-16-58.mp4\n",
      "EvieBree-2023-05-10-17-53.mp4\n",
      "Firmia-Toy-2021-12-22-16-35.mp4\n",
      "FirstNyraIncident-2022-08-26-17-00.mp4\n",
      "FoodDone-2022-08-10-11-27.mp4\n",
      "Happyhipposteachersgoofingoff-2024-12-12-08-24.mp4\n",
      "Henry-2023-02-09-16-27.mp4\n",
      "Henry-nose-2023-07-10-18-23.mp4\n",
      "HenrySuctionCup-2022-08-03-17-07.mp4\n",
      "ImaniFoot-2019-08-22-15-53.mp4\n",
      "IsaWalking-2024-07-09-16-00.mp4\n",
      "IvaFall-2024-03-21-10-01.mp4\n",
      "Jack-ActivityExclusion-2022-07-14-15-30.mp4\n",
      "Jaiden-Jump-2021-05-20-16-31.mp4\n",
      "Jenine-diaperchange-2020-01-10-14-18.mp4\n",
      "Jenine-gigi-2020-01-10-15-03.mp4\n",
      "Jenine-part1-2020-01-10-14-58.mp4\n",
      "Jovan-Fall-2022-04-04-12-03.mp4\n",
      "JudeFall-2024-01-26-09-17.mp4\n",
      "Kelley-Car-2022-06-07-09-30.mp4\n",
      "Kiko-2022-10-04-17-00.mp4\n",
      "Kyle-2022-09-14-17-31.mp4\n",
      "Kyle-2023-03-14-10-37.mp4\n",
      "Kyle-Fall-2023-03-24-09-12.mp4\n",
      "LexyChoking-2022-09-22-12-16.mp4\n",
      "MMArjun-2021-09-02-10-15.mp4\n",
      "Maadionthephone--2024-12-12-07-45.mp4\n",
      "Maadionthephone2-2024-12-12-08-15.mp4\n",
      "Mishaa-2022-08-10-11-23.mp4\n",
      "Mishaa-2022-08-10-11-24.mp4\n",
      "MishaaTrip-2023-03-22-11-05.mp4\n",
      "Mishafood-2022-08-10-11-22.mp4\n",
      "NataliaWalking-2022-06-09-10-45.mp4\n",
      "Neil-Nugget-2021-04-08-11-30.mp4\n",
      "NicoleAnthony-2023-08-09-15-58.mp4\n",
      "Nitarasfall-2024-09-25-17-16.mp4\n",
      "NyraSanaEaston-2022-08-26-17-10.mp4\n",
      "RahdinTableBump-2022-07-01-10-32.mp4\n",
      "Reyansh-2024-01-23-15-43.mp4\n",
      "RiaanFall-2023-03-31-16-45.mp4\n",
      "SalarTooth-2024-08-07-17-11.mp4\n",
      "SantaraLeiaandClairefall-2024-08-01-17-43.mp4\n",
      "Sitara-Snack-2022-09-14-15-25.mp4\n",
      "Teachersattimeofincident-2022-08-26-17-08.mp4\n",
      "Valentina-Lobby-2019-09-03-14-08.mp4\n",
      "VeerWalking-2023-05-31-16-31.mp4\n",
      "Vidit-Bag-2023-11-09-10-20.mp4\n",
      "Zoey-2024-02-07-16-48.mp4\n"
     ]
    }
   ],
   "source": [
    "!ls daycare_fall/Secaucus_data/Secaucus  "
   ]
  },
  {
   "cell_type": "code",
   "execution_count": 149,
   "id": "6fdf371c-c947-4e6e-88ef-abbc863bbff3",
   "metadata": {},
   "outputs": [
    {
     "data": {
      "text/plain": [
       "array(['AaravFall-2022-02-22-13-34.mp4',\n",
       "       'Avyukt-Fall-2023-06-02-15-53.mp4',\n",
       "       'CrystalandKabir-2023-11-10-11-33.mp4',\n",
       "       'DanielleTable-2021-09-03-16-10.mp4',\n",
       "       'DanielleNap-2022-06-21-14-41.mp4', 'Easton-2022-08-24-16-58.mp4',\n",
       "       'IvaFall-2024-03-21-10-01.mp4',\n",
       "       'Jack-ActivityExclusion-2022-07-14-15-30.mp4',\n",
       "       'Jenine-gigi-2020-01-10-15-03.mp4',\n",
       "       'Jovan-Fall-2022-04-04-12-03.mp4', 'JudeFall-2024-01-26-09-17.mp4',\n",
       "       'Kelley-Car-2022-06-07-09-30.mp4', 'Kiko-2022-10-04-17-00.mp4',\n",
       "       'Kyle-2022-09-14-17-31.mp4', 'Kyle-Fall-2023-03-24-09-12.mp4',\n",
       "       'Mishaa-2022-08-10-11-23.mp4', 'Mishaa-2022-08-10-11-24.mp4',\n",
       "       'Mishafood-2022-08-10-11-22.mp4',\n",
       "       'Nitarasfall-2024-09-25-17-16.mp4',\n",
       "       'RiaanFall-2023-03-31-16-45.mp4',\n",
       "       'SalarTooth-2024-08-07-17-11.mp4',\n",
       "       'SantaraLeiaandClairefall-2024-08-01-17-43.mp4',\n",
       "       'Teachersattimeofincident-2022-08-26-17-08.mp4',\n",
       "       'AMIncident-2024-04-10-16-19.mp4',\n",
       "       'BSincident-2024-05-14-08-16.mp4', 'DSFall-2024-06-13-08-13.mp4',\n",
       "       'Drayden-2024-09-05-16-24.mp4',\n",
       "       'FyouinHTclassroom-2024-12-11-16-41.mp4',\n",
       "       'GreyGFall-2024-05-22-08-30.mp4', 'HM2824-2024-02-08-15-10.mp4',\n",
       "       'JRaccident-2023-01-26-07-55.mp4', 'Kyla-2024-10-23-09-31.mp4',\n",
       "       'Part2-2024-12-11-16-43.mp4', 'SeanLFall-2024-11-19-15-55.mp4'],\n",
       "      dtype=object)"
      ]
     },
     "execution_count": 149,
     "metadata": {},
     "output_type": "execute_result"
    }
   ],
   "source": [
    "video_list"
   ]
  },
  {
   "cell_type": "code",
   "execution_count": 150,
   "id": "1c82f395-5953-4b10-8c8d-2b41e51c2d10",
   "metadata": {},
   "outputs": [],
   "source": [
    "videos_dir = \"daycare_fall/Secaucus_data/merge_videos\"\n",
    "frames_dir = \"daycare_fall/Secaucus_data/merge_frames\"\n",
    "for video_id, video_file in enumerate(video_list):\n",
    "    video_path = os.path.join(videos_dir, video_file)\n",
    "    original_vido_id = video_file.replace(\".mp4\", \"\")\n",
    "    if not os.path.exists(video_path):\n",
    "        print(\"not exists\")\n",
    "    frames_save_dir = os.path.join(frames_dir, original_vido_id)\n",
    "    os.makedirs(frames_save_dir, exist_ok=True)\n",
    "\n"
   ]
  },
  {
   "cell_type": "code",
   "execution_count": 156,
   "id": "19f5c355-ab1f-410e-b862-485c23e21a67",
   "metadata": {},
   "outputs": [
    {
     "name": "stdout",
     "output_type": "stream",
     "text": [
      "[Progress] Video: AaravFall-2022-02-22-13-34.mp4 (1/34), Frame: 200/579\n",
      "[Progress] Video: AaravFall-2022-02-22-13-34.mp4 (1/34), Frame: 400/579\n",
      "[Progress] Video: Avyukt-Fall-2023-06-02-15-53.mp4 (2/34), Frame: 200/591\n",
      "[Progress] Video: Avyukt-Fall-2023-06-02-15-53.mp4 (2/34), Frame: 400/591\n",
      "[Progress] Video: CrystalandKabir-2023-11-10-11-33.mp4 (3/34), Frame: 200/624\n",
      "[Progress] Video: CrystalandKabir-2023-11-10-11-33.mp4 (3/34), Frame: 400/624\n",
      "[Progress] Video: CrystalandKabir-2023-11-10-11-33.mp4 (3/34), Frame: 600/624\n",
      "[Progress] Video: DanielleTable-2021-09-03-16-10.mp4 (4/34), Frame: 200/591\n",
      "[Progress] Video: DanielleTable-2021-09-03-16-10.mp4 (4/34), Frame: 400/591\n",
      "[Progress] Video: DanielleNap-2022-06-21-14-41.mp4 (5/34), Frame: 200/1190\n",
      "[Progress] Video: DanielleNap-2022-06-21-14-41.mp4 (5/34), Frame: 400/1190\n",
      "[Progress] Video: DanielleNap-2022-06-21-14-41.mp4 (5/34), Frame: 600/1190\n",
      "[Progress] Video: DanielleNap-2022-06-21-14-41.mp4 (5/34), Frame: 800/1190\n",
      "[Progress] Video: DanielleNap-2022-06-21-14-41.mp4 (5/34), Frame: 1000/1190\n",
      "[Progress] Video: Easton-2022-08-24-16-58.mp4 (6/34), Frame: 200/596\n",
      "[Progress] Video: Easton-2022-08-24-16-58.mp4 (6/34), Frame: 400/596\n",
      "[Progress] Video: IvaFall-2024-03-21-10-01.mp4 (7/34), Frame: 200/600\n",
      "[Progress] Video: IvaFall-2024-03-21-10-01.mp4 (7/34), Frame: 400/600\n",
      "[Progress] Video: IvaFall-2024-03-21-10-01.mp4 (7/34), Frame: 600/600\n",
      "[Progress] Video: Jack-ActivityExclusion-2022-07-14-15-30.mp4 (8/34), Frame: 200/36006\n",
      "[Progress] Video: Jack-ActivityExclusion-2022-07-14-15-30.mp4 (8/34), Frame: 400/36006\n",
      "[Progress] Video: Jack-ActivityExclusion-2022-07-14-15-30.mp4 (8/34), Frame: 600/36006\n",
      "[Progress] Video: Jack-ActivityExclusion-2022-07-14-15-30.mp4 (8/34), Frame: 800/36006\n",
      "[Progress] Video: Jack-ActivityExclusion-2022-07-14-15-30.mp4 (8/34), Frame: 1000/36006\n",
      "[Progress] Video: Jack-ActivityExclusion-2022-07-14-15-30.mp4 (8/34), Frame: 1200/36006\n",
      "[Progress] Video: Jack-ActivityExclusion-2022-07-14-15-30.mp4 (8/34), Frame: 1400/36006\n",
      "[Progress] Video: Jack-ActivityExclusion-2022-07-14-15-30.mp4 (8/34), Frame: 1600/36006\n",
      "[Progress] Video: Jack-ActivityExclusion-2022-07-14-15-30.mp4 (8/34), Frame: 1800/36006\n",
      "[Progress] Video: Jack-ActivityExclusion-2022-07-14-15-30.mp4 (8/34), Frame: 2000/36006\n",
      "[Progress] Video: Jack-ActivityExclusion-2022-07-14-15-30.mp4 (8/34), Frame: 2200/36006\n",
      "[Progress] Video: Jack-ActivityExclusion-2022-07-14-15-30.mp4 (8/34), Frame: 2400/36006\n",
      "[Progress] Video: Jack-ActivityExclusion-2022-07-14-15-30.mp4 (8/34), Frame: 2600/36006\n",
      "[Progress] Video: Jack-ActivityExclusion-2022-07-14-15-30.mp4 (8/34), Frame: 2800/36006\n",
      "[Progress] Video: Jack-ActivityExclusion-2022-07-14-15-30.mp4 (8/34), Frame: 3000/36006\n",
      "[Progress] Video: Jack-ActivityExclusion-2022-07-14-15-30.mp4 (8/34), Frame: 3200/36006\n",
      "[Progress] Video: Jack-ActivityExclusion-2022-07-14-15-30.mp4 (8/34), Frame: 3400/36006\n",
      "[Progress] Video: Jack-ActivityExclusion-2022-07-14-15-30.mp4 (8/34), Frame: 3600/36006\n",
      "[Progress] Video: Jack-ActivityExclusion-2022-07-14-15-30.mp4 (8/34), Frame: 3800/36006\n",
      "[Progress] Video: Jack-ActivityExclusion-2022-07-14-15-30.mp4 (8/34), Frame: 4000/36006\n",
      "[Progress] Video: Jack-ActivityExclusion-2022-07-14-15-30.mp4 (8/34), Frame: 4200/36006\n",
      "[Progress] Video: Jack-ActivityExclusion-2022-07-14-15-30.mp4 (8/34), Frame: 4400/36006\n",
      "[Progress] Video: Jack-ActivityExclusion-2022-07-14-15-30.mp4 (8/34), Frame: 4600/36006\n",
      "[Progress] Video: Jack-ActivityExclusion-2022-07-14-15-30.mp4 (8/34), Frame: 4800/36006\n",
      "[Progress] Video: Jack-ActivityExclusion-2022-07-14-15-30.mp4 (8/34), Frame: 5000/36006\n",
      "[Progress] Video: Jack-ActivityExclusion-2022-07-14-15-30.mp4 (8/34), Frame: 5200/36006\n",
      "[Progress] Video: Jack-ActivityExclusion-2022-07-14-15-30.mp4 (8/34), Frame: 5400/36006\n",
      "[Progress] Video: Jack-ActivityExclusion-2022-07-14-15-30.mp4 (8/34), Frame: 5600/36006\n",
      "[Progress] Video: Jack-ActivityExclusion-2022-07-14-15-30.mp4 (8/34), Frame: 5800/36006\n",
      "[Progress] Video: Jack-ActivityExclusion-2022-07-14-15-30.mp4 (8/34), Frame: 6000/36006\n",
      "[Progress] Video: Jack-ActivityExclusion-2022-07-14-15-30.mp4 (8/34), Frame: 6200/36006\n",
      "[Progress] Video: Jack-ActivityExclusion-2022-07-14-15-30.mp4 (8/34), Frame: 6400/36006\n",
      "[Progress] Video: Jack-ActivityExclusion-2022-07-14-15-30.mp4 (8/34), Frame: 6600/36006\n",
      "[Progress] Video: Jack-ActivityExclusion-2022-07-14-15-30.mp4 (8/34), Frame: 6800/36006\n",
      "[Progress] Video: Jack-ActivityExclusion-2022-07-14-15-30.mp4 (8/34), Frame: 7000/36006\n",
      "[Progress] Video: Jack-ActivityExclusion-2022-07-14-15-30.mp4 (8/34), Frame: 7200/36006\n",
      "[Progress] Video: Jack-ActivityExclusion-2022-07-14-15-30.mp4 (8/34), Frame: 7400/36006\n",
      "[Progress] Video: Jack-ActivityExclusion-2022-07-14-15-30.mp4 (8/34), Frame: 7600/36006\n",
      "[Progress] Video: Jack-ActivityExclusion-2022-07-14-15-30.mp4 (8/34), Frame: 7800/36006\n",
      "[Progress] Video: Jack-ActivityExclusion-2022-07-14-15-30.mp4 (8/34), Frame: 8000/36006\n",
      "[Progress] Video: Jack-ActivityExclusion-2022-07-14-15-30.mp4 (8/34), Frame: 8200/36006\n",
      "[Progress] Video: Jack-ActivityExclusion-2022-07-14-15-30.mp4 (8/34), Frame: 8400/36006\n",
      "[Progress] Video: Jack-ActivityExclusion-2022-07-14-15-30.mp4 (8/34), Frame: 8600/36006\n",
      "[Progress] Video: Jack-ActivityExclusion-2022-07-14-15-30.mp4 (8/34), Frame: 8800/36006\n",
      "[Progress] Video: Jack-ActivityExclusion-2022-07-14-15-30.mp4 (8/34), Frame: 9000/36006\n",
      "[Progress] Video: Jack-ActivityExclusion-2022-07-14-15-30.mp4 (8/34), Frame: 9200/36006\n",
      "[Progress] Video: Jack-ActivityExclusion-2022-07-14-15-30.mp4 (8/34), Frame: 9400/36006\n",
      "[Progress] Video: Jack-ActivityExclusion-2022-07-14-15-30.mp4 (8/34), Frame: 9600/36006\n",
      "[Progress] Video: Jack-ActivityExclusion-2022-07-14-15-30.mp4 (8/34), Frame: 9800/36006\n",
      "[Progress] Video: Jack-ActivityExclusion-2022-07-14-15-30.mp4 (8/34), Frame: 10000/36006\n",
      "[Progress] Video: Jack-ActivityExclusion-2022-07-14-15-30.mp4 (8/34), Frame: 10200/36006\n",
      "[Progress] Video: Jack-ActivityExclusion-2022-07-14-15-30.mp4 (8/34), Frame: 10400/36006\n",
      "[Progress] Video: Jack-ActivityExclusion-2022-07-14-15-30.mp4 (8/34), Frame: 10600/36006\n",
      "[Progress] Video: Jack-ActivityExclusion-2022-07-14-15-30.mp4 (8/34), Frame: 10800/36006\n",
      "[Progress] Video: Jack-ActivityExclusion-2022-07-14-15-30.mp4 (8/34), Frame: 11000/36006\n",
      "[Progress] Video: Jack-ActivityExclusion-2022-07-14-15-30.mp4 (8/34), Frame: 11200/36006\n",
      "[Progress] Video: Jack-ActivityExclusion-2022-07-14-15-30.mp4 (8/34), Frame: 11400/36006\n",
      "[Progress] Video: Jack-ActivityExclusion-2022-07-14-15-30.mp4 (8/34), Frame: 11600/36006\n",
      "[Progress] Video: Jack-ActivityExclusion-2022-07-14-15-30.mp4 (8/34), Frame: 11800/36006\n",
      "[Progress] Video: Jack-ActivityExclusion-2022-07-14-15-30.mp4 (8/34), Frame: 12000/36006\n",
      "[Progress] Video: Jack-ActivityExclusion-2022-07-14-15-30.mp4 (8/34), Frame: 12200/36006\n",
      "[Progress] Video: Jack-ActivityExclusion-2022-07-14-15-30.mp4 (8/34), Frame: 12400/36006\n",
      "[Progress] Video: Jack-ActivityExclusion-2022-07-14-15-30.mp4 (8/34), Frame: 12600/36006\n",
      "[Progress] Video: Jack-ActivityExclusion-2022-07-14-15-30.mp4 (8/34), Frame: 12800/36006\n",
      "[Progress] Video: Jack-ActivityExclusion-2022-07-14-15-30.mp4 (8/34), Frame: 13000/36006\n",
      "[Progress] Video: Jack-ActivityExclusion-2022-07-14-15-30.mp4 (8/34), Frame: 13200/36006\n",
      "[Progress] Video: Jack-ActivityExclusion-2022-07-14-15-30.mp4 (8/34), Frame: 13400/36006\n",
      "[Progress] Video: Jack-ActivityExclusion-2022-07-14-15-30.mp4 (8/34), Frame: 13600/36006\n",
      "[Progress] Video: Jack-ActivityExclusion-2022-07-14-15-30.mp4 (8/34), Frame: 13800/36006\n",
      "[Progress] Video: Jack-ActivityExclusion-2022-07-14-15-30.mp4 (8/34), Frame: 14000/36006\n",
      "[Progress] Video: Jack-ActivityExclusion-2022-07-14-15-30.mp4 (8/34), Frame: 14200/36006\n",
      "[Progress] Video: Jack-ActivityExclusion-2022-07-14-15-30.mp4 (8/34), Frame: 14400/36006\n",
      "[Progress] Video: Jack-ActivityExclusion-2022-07-14-15-30.mp4 (8/34), Frame: 14600/36006\n",
      "[Progress] Video: Jack-ActivityExclusion-2022-07-14-15-30.mp4 (8/34), Frame: 14800/36006\n",
      "[Progress] Video: Jack-ActivityExclusion-2022-07-14-15-30.mp4 (8/34), Frame: 15000/36006\n",
      "[Progress] Video: Jack-ActivityExclusion-2022-07-14-15-30.mp4 (8/34), Frame: 15200/36006\n",
      "[Progress] Video: Jack-ActivityExclusion-2022-07-14-15-30.mp4 (8/34), Frame: 15400/36006\n",
      "[Progress] Video: Jack-ActivityExclusion-2022-07-14-15-30.mp4 (8/34), Frame: 15600/36006\n",
      "[Progress] Video: Jack-ActivityExclusion-2022-07-14-15-30.mp4 (8/34), Frame: 15800/36006\n",
      "[Progress] Video: Jack-ActivityExclusion-2022-07-14-15-30.mp4 (8/34), Frame: 16000/36006\n",
      "[Progress] Video: Jack-ActivityExclusion-2022-07-14-15-30.mp4 (8/34), Frame: 16200/36006\n",
      "[Progress] Video: Jack-ActivityExclusion-2022-07-14-15-30.mp4 (8/34), Frame: 16400/36006\n",
      "[Progress] Video: Jack-ActivityExclusion-2022-07-14-15-30.mp4 (8/34), Frame: 16600/36006\n",
      "[Progress] Video: Jack-ActivityExclusion-2022-07-14-15-30.mp4 (8/34), Frame: 16800/36006\n",
      "[Progress] Video: Jack-ActivityExclusion-2022-07-14-15-30.mp4 (8/34), Frame: 17000/36006\n",
      "[Progress] Video: Jack-ActivityExclusion-2022-07-14-15-30.mp4 (8/34), Frame: 17200/36006\n",
      "[Progress] Video: Jack-ActivityExclusion-2022-07-14-15-30.mp4 (8/34), Frame: 17400/36006\n",
      "[Progress] Video: Jack-ActivityExclusion-2022-07-14-15-30.mp4 (8/34), Frame: 17600/36006\n",
      "[Progress] Video: Jack-ActivityExclusion-2022-07-14-15-30.mp4 (8/34), Frame: 17800/36006\n",
      "[Progress] Video: Jack-ActivityExclusion-2022-07-14-15-30.mp4 (8/34), Frame: 18000/36006\n",
      "[Progress] Video: Jack-ActivityExclusion-2022-07-14-15-30.mp4 (8/34), Frame: 18200/36006\n",
      "[Progress] Video: Jack-ActivityExclusion-2022-07-14-15-30.mp4 (8/34), Frame: 18400/36006\n",
      "[Progress] Video: Jack-ActivityExclusion-2022-07-14-15-30.mp4 (8/34), Frame: 18600/36006\n",
      "[Progress] Video: Jack-ActivityExclusion-2022-07-14-15-30.mp4 (8/34), Frame: 18800/36006\n",
      "[Progress] Video: Jack-ActivityExclusion-2022-07-14-15-30.mp4 (8/34), Frame: 19000/36006\n",
      "[Progress] Video: Jack-ActivityExclusion-2022-07-14-15-30.mp4 (8/34), Frame: 19200/36006\n",
      "[Progress] Video: Jack-ActivityExclusion-2022-07-14-15-30.mp4 (8/34), Frame: 19400/36006\n",
      "[Progress] Video: Jack-ActivityExclusion-2022-07-14-15-30.mp4 (8/34), Frame: 19600/36006\n",
      "[Progress] Video: Jack-ActivityExclusion-2022-07-14-15-30.mp4 (8/34), Frame: 19800/36006\n",
      "[Progress] Video: Jack-ActivityExclusion-2022-07-14-15-30.mp4 (8/34), Frame: 20000/36006\n",
      "[Progress] Video: Jack-ActivityExclusion-2022-07-14-15-30.mp4 (8/34), Frame: 20200/36006\n",
      "[Progress] Video: Jack-ActivityExclusion-2022-07-14-15-30.mp4 (8/34), Frame: 20400/36006\n",
      "[Progress] Video: Jack-ActivityExclusion-2022-07-14-15-30.mp4 (8/34), Frame: 20600/36006\n",
      "[Progress] Video: Jack-ActivityExclusion-2022-07-14-15-30.mp4 (8/34), Frame: 20800/36006\n",
      "[Progress] Video: Jack-ActivityExclusion-2022-07-14-15-30.mp4 (8/34), Frame: 21000/36006\n",
      "[Progress] Video: Jack-ActivityExclusion-2022-07-14-15-30.mp4 (8/34), Frame: 21200/36006\n",
      "[Progress] Video: Jack-ActivityExclusion-2022-07-14-15-30.mp4 (8/34), Frame: 21400/36006\n",
      "[Progress] Video: Jack-ActivityExclusion-2022-07-14-15-30.mp4 (8/34), Frame: 21600/36006\n",
      "[Progress] Video: Jack-ActivityExclusion-2022-07-14-15-30.mp4 (8/34), Frame: 21800/36006\n",
      "[Progress] Video: Jack-ActivityExclusion-2022-07-14-15-30.mp4 (8/34), Frame: 22000/36006\n",
      "[Progress] Video: Jack-ActivityExclusion-2022-07-14-15-30.mp4 (8/34), Frame: 22200/36006\n",
      "[Progress] Video: Jack-ActivityExclusion-2022-07-14-15-30.mp4 (8/34), Frame: 22400/36006\n",
      "[Progress] Video: Jack-ActivityExclusion-2022-07-14-15-30.mp4 (8/34), Frame: 22600/36006\n",
      "[Progress] Video: Jack-ActivityExclusion-2022-07-14-15-30.mp4 (8/34), Frame: 22800/36006\n",
      "[Progress] Video: Jack-ActivityExclusion-2022-07-14-15-30.mp4 (8/34), Frame: 23000/36006\n",
      "[Progress] Video: Jack-ActivityExclusion-2022-07-14-15-30.mp4 (8/34), Frame: 23200/36006\n",
      "[Progress] Video: Jack-ActivityExclusion-2022-07-14-15-30.mp4 (8/34), Frame: 23400/36006\n",
      "[Progress] Video: Jack-ActivityExclusion-2022-07-14-15-30.mp4 (8/34), Frame: 23600/36006\n",
      "[Progress] Video: Jack-ActivityExclusion-2022-07-14-15-30.mp4 (8/34), Frame: 23800/36006\n",
      "[Progress] Video: Jack-ActivityExclusion-2022-07-14-15-30.mp4 (8/34), Frame: 24000/36006\n",
      "[Progress] Video: Jack-ActivityExclusion-2022-07-14-15-30.mp4 (8/34), Frame: 24200/36006\n",
      "[Progress] Video: Jack-ActivityExclusion-2022-07-14-15-30.mp4 (8/34), Frame: 24400/36006\n",
      "[Progress] Video: Jack-ActivityExclusion-2022-07-14-15-30.mp4 (8/34), Frame: 24600/36006\n",
      "[Progress] Video: Jack-ActivityExclusion-2022-07-14-15-30.mp4 (8/34), Frame: 24800/36006\n",
      "[Progress] Video: Jack-ActivityExclusion-2022-07-14-15-30.mp4 (8/34), Frame: 25000/36006\n",
      "[Progress] Video: Jack-ActivityExclusion-2022-07-14-15-30.mp4 (8/34), Frame: 25200/36006\n",
      "[Progress] Video: Jack-ActivityExclusion-2022-07-14-15-30.mp4 (8/34), Frame: 25400/36006\n",
      "[Progress] Video: Jack-ActivityExclusion-2022-07-14-15-30.mp4 (8/34), Frame: 25600/36006\n",
      "[Progress] Video: Jack-ActivityExclusion-2022-07-14-15-30.mp4 (8/34), Frame: 25800/36006\n",
      "[Progress] Video: Jack-ActivityExclusion-2022-07-14-15-30.mp4 (8/34), Frame: 26000/36006\n",
      "[Progress] Video: Jack-ActivityExclusion-2022-07-14-15-30.mp4 (8/34), Frame: 26200/36006\n",
      "[Progress] Video: Jack-ActivityExclusion-2022-07-14-15-30.mp4 (8/34), Frame: 26400/36006\n",
      "[Progress] Video: Jack-ActivityExclusion-2022-07-14-15-30.mp4 (8/34), Frame: 26600/36006\n",
      "[Progress] Video: Jack-ActivityExclusion-2022-07-14-15-30.mp4 (8/34), Frame: 26800/36006\n",
      "[Progress] Video: Jack-ActivityExclusion-2022-07-14-15-30.mp4 (8/34), Frame: 27000/36006\n",
      "[Progress] Video: Jack-ActivityExclusion-2022-07-14-15-30.mp4 (8/34), Frame: 27200/36006\n",
      "[Progress] Video: Jack-ActivityExclusion-2022-07-14-15-30.mp4 (8/34), Frame: 27400/36006\n",
      "[Progress] Video: Jack-ActivityExclusion-2022-07-14-15-30.mp4 (8/34), Frame: 27600/36006\n",
      "[Progress] Video: Jack-ActivityExclusion-2022-07-14-15-30.mp4 (8/34), Frame: 27800/36006\n",
      "[Progress] Video: Jack-ActivityExclusion-2022-07-14-15-30.mp4 (8/34), Frame: 28000/36006\n",
      "[Progress] Video: Jack-ActivityExclusion-2022-07-14-15-30.mp4 (8/34), Frame: 28200/36006\n",
      "[Progress] Video: Jack-ActivityExclusion-2022-07-14-15-30.mp4 (8/34), Frame: 28400/36006\n",
      "[Progress] Video: Jack-ActivityExclusion-2022-07-14-15-30.mp4 (8/34), Frame: 28600/36006\n",
      "[Progress] Video: Jack-ActivityExclusion-2022-07-14-15-30.mp4 (8/34), Frame: 28800/36006\n",
      "[Progress] Video: Jack-ActivityExclusion-2022-07-14-15-30.mp4 (8/34), Frame: 29000/36006\n",
      "[Progress] Video: Jack-ActivityExclusion-2022-07-14-15-30.mp4 (8/34), Frame: 29200/36006\n",
      "[Progress] Video: Jack-ActivityExclusion-2022-07-14-15-30.mp4 (8/34), Frame: 29400/36006\n",
      "[Progress] Video: Jack-ActivityExclusion-2022-07-14-15-30.mp4 (8/34), Frame: 29600/36006\n",
      "[Progress] Video: Jack-ActivityExclusion-2022-07-14-15-30.mp4 (8/34), Frame: 29800/36006\n",
      "[Progress] Video: Jack-ActivityExclusion-2022-07-14-15-30.mp4 (8/34), Frame: 30000/36006\n",
      "[Progress] Video: Jack-ActivityExclusion-2022-07-14-15-30.mp4 (8/34), Frame: 30200/36006\n",
      "[Progress] Video: Jack-ActivityExclusion-2022-07-14-15-30.mp4 (8/34), Frame: 30400/36006\n",
      "[Progress] Video: Jack-ActivityExclusion-2022-07-14-15-30.mp4 (8/34), Frame: 30600/36006\n",
      "[Progress] Video: Jack-ActivityExclusion-2022-07-14-15-30.mp4 (8/34), Frame: 30800/36006\n",
      "[Progress] Video: Jack-ActivityExclusion-2022-07-14-15-30.mp4 (8/34), Frame: 31000/36006\n",
      "[Progress] Video: Jack-ActivityExclusion-2022-07-14-15-30.mp4 (8/34), Frame: 31200/36006\n",
      "[Progress] Video: Jack-ActivityExclusion-2022-07-14-15-30.mp4 (8/34), Frame: 31400/36006\n",
      "[Progress] Video: Jack-ActivityExclusion-2022-07-14-15-30.mp4 (8/34), Frame: 31600/36006\n",
      "[Progress] Video: Jack-ActivityExclusion-2022-07-14-15-30.mp4 (8/34), Frame: 31800/36006\n",
      "[Progress] Video: Jack-ActivityExclusion-2022-07-14-15-30.mp4 (8/34), Frame: 32000/36006\n",
      "[Progress] Video: Jack-ActivityExclusion-2022-07-14-15-30.mp4 (8/34), Frame: 32200/36006\n",
      "[Progress] Video: Jack-ActivityExclusion-2022-07-14-15-30.mp4 (8/34), Frame: 32400/36006\n",
      "[Progress] Video: Jack-ActivityExclusion-2022-07-14-15-30.mp4 (8/34), Frame: 32600/36006\n",
      "[Progress] Video: Jack-ActivityExclusion-2022-07-14-15-30.mp4 (8/34), Frame: 32800/36006\n",
      "[Progress] Video: Jack-ActivityExclusion-2022-07-14-15-30.mp4 (8/34), Frame: 33000/36006\n",
      "[Progress] Video: Jack-ActivityExclusion-2022-07-14-15-30.mp4 (8/34), Frame: 33200/36006\n",
      "[Progress] Video: Jack-ActivityExclusion-2022-07-14-15-30.mp4 (8/34), Frame: 33400/36006\n",
      "[Progress] Video: Jack-ActivityExclusion-2022-07-14-15-30.mp4 (8/34), Frame: 33600/36006\n",
      "[Progress] Video: Jack-ActivityExclusion-2022-07-14-15-30.mp4 (8/34), Frame: 33800/36006\n",
      "[Progress] Video: Jack-ActivityExclusion-2022-07-14-15-30.mp4 (8/34), Frame: 34000/36006\n",
      "[Progress] Video: Jack-ActivityExclusion-2022-07-14-15-30.mp4 (8/34), Frame: 34200/36006\n",
      "[Progress] Video: Jack-ActivityExclusion-2022-07-14-15-30.mp4 (8/34), Frame: 34400/36006\n",
      "[Progress] Video: Jack-ActivityExclusion-2022-07-14-15-30.mp4 (8/34), Frame: 34600/36006\n",
      "[Progress] Video: Jack-ActivityExclusion-2022-07-14-15-30.mp4 (8/34), Frame: 34800/36006\n",
      "[Progress] Video: Jack-ActivityExclusion-2022-07-14-15-30.mp4 (8/34), Frame: 35000/36006\n",
      "[Progress] Video: Jack-ActivityExclusion-2022-07-14-15-30.mp4 (8/34), Frame: 35200/36006\n",
      "[Progress] Video: Jack-ActivityExclusion-2022-07-14-15-30.mp4 (8/34), Frame: 35400/36006\n",
      "[Progress] Video: Jack-ActivityExclusion-2022-07-14-15-30.mp4 (8/34), Frame: 35600/36006\n",
      "[Progress] Video: Jack-ActivityExclusion-2022-07-14-15-30.mp4 (8/34), Frame: 35800/36006\n",
      "[Progress] Video: Jack-ActivityExclusion-2022-07-14-15-30.mp4 (8/34), Frame: 36000/36006\n",
      "[Progress] Video: Jenine-gigi-2020-01-10-15-03.mp4 (9/34), Frame: 200/2990\n",
      "[Progress] Video: Jenine-gigi-2020-01-10-15-03.mp4 (9/34), Frame: 400/2990\n",
      "[Progress] Video: Jenine-gigi-2020-01-10-15-03.mp4 (9/34), Frame: 600/2990\n",
      "[Progress] Video: Jenine-gigi-2020-01-10-15-03.mp4 (9/34), Frame: 800/2990\n",
      "[Progress] Video: Jenine-gigi-2020-01-10-15-03.mp4 (9/34), Frame: 1000/2990\n",
      "[Progress] Video: Jenine-gigi-2020-01-10-15-03.mp4 (9/34), Frame: 1200/2990\n",
      "[Progress] Video: Jenine-gigi-2020-01-10-15-03.mp4 (9/34), Frame: 1400/2990\n",
      "[Progress] Video: Jenine-gigi-2020-01-10-15-03.mp4 (9/34), Frame: 1600/2990\n",
      "[Progress] Video: Jenine-gigi-2020-01-10-15-03.mp4 (9/34), Frame: 1800/2990\n",
      "[Progress] Video: Jenine-gigi-2020-01-10-15-03.mp4 (9/34), Frame: 2000/2990\n",
      "[Progress] Video: Jenine-gigi-2020-01-10-15-03.mp4 (9/34), Frame: 2200/2990\n",
      "[Progress] Video: Jenine-gigi-2020-01-10-15-03.mp4 (9/34), Frame: 2400/2990\n",
      "[Progress] Video: Jenine-gigi-2020-01-10-15-03.mp4 (9/34), Frame: 2600/2990\n",
      "[Progress] Video: Jenine-gigi-2020-01-10-15-03.mp4 (9/34), Frame: 2800/2990\n",
      "[Progress] Video: Jovan-Fall-2022-04-04-12-03.mp4 (10/34), Frame: 200/600\n",
      "[Progress] Video: Jovan-Fall-2022-04-04-12-03.mp4 (10/34), Frame: 400/600\n",
      "[Progress] Video: Jovan-Fall-2022-04-04-12-03.mp4 (10/34), Frame: 600/600\n",
      "[Progress] Video: JudeFall-2024-01-26-09-17.mp4 (11/34), Frame: 200/626\n",
      "[Progress] Video: JudeFall-2024-01-26-09-17.mp4 (11/34), Frame: 400/626\n",
      "[Progress] Video: JudeFall-2024-01-26-09-17.mp4 (11/34), Frame: 600/626\n",
      "[Progress] Video: Kelley-Car-2022-06-07-09-30.mp4 (12/34), Frame: 200/592\n",
      "[Progress] Video: Kelley-Car-2022-06-07-09-30.mp4 (12/34), Frame: 400/592\n",
      "[Progress] Video: Kiko-2022-10-04-17-00.mp4 (13/34), Frame: 200/600\n",
      "[Progress] Video: Kiko-2022-10-04-17-00.mp4 (13/34), Frame: 400/600\n",
      "[Progress] Video: Kiko-2022-10-04-17-00.mp4 (13/34), Frame: 600/600\n",
      "[Progress] Video: Kyle-2022-09-14-17-31.mp4 (14/34), Frame: 200/594\n",
      "[Progress] Video: Kyle-2022-09-14-17-31.mp4 (14/34), Frame: 400/594\n",
      "[Progress] Video: Kyle-Fall-2023-03-24-09-12.mp4 (15/34), Frame: 200/577\n",
      "[Progress] Video: Kyle-Fall-2023-03-24-09-12.mp4 (15/34), Frame: 400/577\n",
      "[Progress] Video: Mishaa-2022-08-10-11-23.mp4 (16/34), Frame: 200/587\n",
      "[Progress] Video: Mishaa-2022-08-10-11-23.mp4 (16/34), Frame: 400/587\n",
      "[Progress] Video: Mishaa-2022-08-10-11-24.mp4 (17/34), Frame: 200/600\n",
      "[Progress] Video: Mishaa-2022-08-10-11-24.mp4 (17/34), Frame: 400/600\n",
      "[Progress] Video: Mishaa-2022-08-10-11-24.mp4 (17/34), Frame: 600/600\n",
      "[Progress] Video: Mishafood-2022-08-10-11-22.mp4 (18/34), Frame: 200/597\n",
      "[Progress] Video: Mishafood-2022-08-10-11-22.mp4 (18/34), Frame: 400/597\n",
      "[Progress] Video: Nitarasfall-2024-09-25-17-16.mp4 (19/34), Frame: 200/608\n",
      "[Progress] Video: Nitarasfall-2024-09-25-17-16.mp4 (19/34), Frame: 400/608\n",
      "[Progress] Video: Nitarasfall-2024-09-25-17-16.mp4 (19/34), Frame: 600/608\n",
      "[Progress] Video: RiaanFall-2023-03-31-16-45.mp4 (20/34), Frame: 200/574\n",
      "[Progress] Video: RiaanFall-2023-03-31-16-45.mp4 (20/34), Frame: 400/574\n",
      "[Progress] Video: SalarTooth-2024-08-07-17-11.mp4 (21/34), Frame: 200/624\n",
      "[Progress] Video: SalarTooth-2024-08-07-17-11.mp4 (21/34), Frame: 400/624\n",
      "[Progress] Video: SalarTooth-2024-08-07-17-11.mp4 (21/34), Frame: 600/624\n",
      "[Progress] Video: SantaraLeiaandClairefall-2024-08-01-17-43.mp4 (22/34), Frame: 200/1210\n",
      "[Progress] Video: SantaraLeiaandClairefall-2024-08-01-17-43.mp4 (22/34), Frame: 400/1210\n",
      "[Progress] Video: SantaraLeiaandClairefall-2024-08-01-17-43.mp4 (22/34), Frame: 600/1210\n",
      "[Progress] Video: SantaraLeiaandClairefall-2024-08-01-17-43.mp4 (22/34), Frame: 800/1210\n",
      "[Progress] Video: SantaraLeiaandClairefall-2024-08-01-17-43.mp4 (22/34), Frame: 1000/1210\n",
      "[Progress] Video: SantaraLeiaandClairefall-2024-08-01-17-43.mp4 (22/34), Frame: 1200/1210\n",
      "[Progress] Video: Teachersattimeofincident-2022-08-26-17-08.mp4 (23/34), Frame: 200/1184\n",
      "[Progress] Video: Teachersattimeofincident-2022-08-26-17-08.mp4 (23/34), Frame: 400/1184\n",
      "[Progress] Video: Teachersattimeofincident-2022-08-26-17-08.mp4 (23/34), Frame: 600/1184\n",
      "[Progress] Video: Teachersattimeofincident-2022-08-26-17-08.mp4 (23/34), Frame: 800/1184\n",
      "[Progress] Video: Teachersattimeofincident-2022-08-26-17-08.mp4 (23/34), Frame: 1000/1184\n",
      "[Progress] Video: AMIncident-2024-04-10-16-19.mp4 (24/34), Frame: 200/6020\n",
      "[Progress] Video: AMIncident-2024-04-10-16-19.mp4 (24/34), Frame: 400/6020\n",
      "[Progress] Video: AMIncident-2024-04-10-16-19.mp4 (24/34), Frame: 600/6020\n",
      "[Progress] Video: AMIncident-2024-04-10-16-19.mp4 (24/34), Frame: 800/6020\n",
      "[Progress] Video: AMIncident-2024-04-10-16-19.mp4 (24/34), Frame: 1000/6020\n",
      "[Progress] Video: AMIncident-2024-04-10-16-19.mp4 (24/34), Frame: 1200/6020\n",
      "[Progress] Video: AMIncident-2024-04-10-16-19.mp4 (24/34), Frame: 1400/6020\n",
      "[Progress] Video: AMIncident-2024-04-10-16-19.mp4 (24/34), Frame: 1600/6020\n",
      "[Progress] Video: AMIncident-2024-04-10-16-19.mp4 (24/34), Frame: 1800/6020\n",
      "[Progress] Video: AMIncident-2024-04-10-16-19.mp4 (24/34), Frame: 2000/6020\n",
      "[Progress] Video: AMIncident-2024-04-10-16-19.mp4 (24/34), Frame: 2200/6020\n",
      "[Progress] Video: AMIncident-2024-04-10-16-19.mp4 (24/34), Frame: 2400/6020\n",
      "[Progress] Video: AMIncident-2024-04-10-16-19.mp4 (24/34), Frame: 2600/6020\n",
      "[Progress] Video: AMIncident-2024-04-10-16-19.mp4 (24/34), Frame: 2800/6020\n",
      "[Progress] Video: AMIncident-2024-04-10-16-19.mp4 (24/34), Frame: 3000/6020\n",
      "[Progress] Video: AMIncident-2024-04-10-16-19.mp4 (24/34), Frame: 3200/6020\n",
      "[Progress] Video: AMIncident-2024-04-10-16-19.mp4 (24/34), Frame: 3400/6020\n",
      "[Progress] Video: AMIncident-2024-04-10-16-19.mp4 (24/34), Frame: 3600/6020\n",
      "[Progress] Video: AMIncident-2024-04-10-16-19.mp4 (24/34), Frame: 3800/6020\n",
      "[Progress] Video: AMIncident-2024-04-10-16-19.mp4 (24/34), Frame: 4000/6020\n",
      "[Progress] Video: AMIncident-2024-04-10-16-19.mp4 (24/34), Frame: 4200/6020\n",
      "[Progress] Video: AMIncident-2024-04-10-16-19.mp4 (24/34), Frame: 4400/6020\n",
      "[Progress] Video: AMIncident-2024-04-10-16-19.mp4 (24/34), Frame: 4600/6020\n",
      "[Progress] Video: AMIncident-2024-04-10-16-19.mp4 (24/34), Frame: 4800/6020\n",
      "[Progress] Video: AMIncident-2024-04-10-16-19.mp4 (24/34), Frame: 5000/6020\n",
      "[Progress] Video: AMIncident-2024-04-10-16-19.mp4 (24/34), Frame: 5200/6020\n",
      "[Progress] Video: AMIncident-2024-04-10-16-19.mp4 (24/34), Frame: 5400/6020\n",
      "[Progress] Video: AMIncident-2024-04-10-16-19.mp4 (24/34), Frame: 5600/6020\n",
      "[Progress] Video: AMIncident-2024-04-10-16-19.mp4 (24/34), Frame: 5800/6020\n",
      "[Progress] Video: AMIncident-2024-04-10-16-19.mp4 (24/34), Frame: 6000/6020\n",
      "[Progress] Video: BSincident-2024-05-14-08-16.mp4 (25/34), Frame: 200/2420\n",
      "[Progress] Video: BSincident-2024-05-14-08-16.mp4 (25/34), Frame: 400/2420\n",
      "[Progress] Video: BSincident-2024-05-14-08-16.mp4 (25/34), Frame: 600/2420\n",
      "[Progress] Video: BSincident-2024-05-14-08-16.mp4 (25/34), Frame: 800/2420\n",
      "[Progress] Video: BSincident-2024-05-14-08-16.mp4 (25/34), Frame: 1000/2420\n",
      "[Progress] Video: BSincident-2024-05-14-08-16.mp4 (25/34), Frame: 1200/2420\n",
      "[Progress] Video: BSincident-2024-05-14-08-16.mp4 (25/34), Frame: 1400/2420\n",
      "[Progress] Video: BSincident-2024-05-14-08-16.mp4 (25/34), Frame: 1600/2420\n",
      "[Progress] Video: BSincident-2024-05-14-08-16.mp4 (25/34), Frame: 1800/2420\n",
      "[Progress] Video: BSincident-2024-05-14-08-16.mp4 (25/34), Frame: 2000/2420\n",
      "[Progress] Video: BSincident-2024-05-14-08-16.mp4 (25/34), Frame: 2200/2420\n",
      "[Progress] Video: BSincident-2024-05-14-08-16.mp4 (25/34), Frame: 2400/2420\n",
      "[Progress] Video: DSFall-2024-06-13-08-13.mp4 (26/34), Frame: 200/620\n",
      "[Progress] Video: DSFall-2024-06-13-08-13.mp4 (26/34), Frame: 400/620\n",
      "[Progress] Video: DSFall-2024-06-13-08-13.mp4 (26/34), Frame: 600/620\n",
      "[Progress] Video: Drayden-2024-09-05-16-24.mp4 (27/34), Frame: 200/620\n",
      "[Progress] Video: Drayden-2024-09-05-16-24.mp4 (27/34), Frame: 400/620\n",
      "[Progress] Video: Drayden-2024-09-05-16-24.mp4 (27/34), Frame: 600/620\n",
      "[Progress] Video: FyouinHTclassroom-2024-12-11-16-41.mp4 (28/34), Frame: 200/1809\n",
      "[Progress] Video: FyouinHTclassroom-2024-12-11-16-41.mp4 (28/34), Frame: 400/1809\n",
      "[Progress] Video: FyouinHTclassroom-2024-12-11-16-41.mp4 (28/34), Frame: 600/1809\n",
      "[Progress] Video: FyouinHTclassroom-2024-12-11-16-41.mp4 (28/34), Frame: 800/1809\n",
      "[Progress] Video: FyouinHTclassroom-2024-12-11-16-41.mp4 (28/34), Frame: 1000/1809\n",
      "[Progress] Video: FyouinHTclassroom-2024-12-11-16-41.mp4 (28/34), Frame: 1200/1809\n",
      "[Progress] Video: FyouinHTclassroom-2024-12-11-16-41.mp4 (28/34), Frame: 1400/1809\n",
      "[Progress] Video: FyouinHTclassroom-2024-12-11-16-41.mp4 (28/34), Frame: 1600/1809\n",
      "[Progress] Video: FyouinHTclassroom-2024-12-11-16-41.mp4 (28/34), Frame: 1800/1809\n",
      "[Progress] Video: GreyGFall-2024-05-22-08-30.mp4 (29/34), Frame: 200/1220\n",
      "[Progress] Video: GreyGFall-2024-05-22-08-30.mp4 (29/34), Frame: 400/1220\n",
      "[Progress] Video: GreyGFall-2024-05-22-08-30.mp4 (29/34), Frame: 600/1220\n",
      "[Progress] Video: GreyGFall-2024-05-22-08-30.mp4 (29/34), Frame: 800/1220\n",
      "[Progress] Video: GreyGFall-2024-05-22-08-30.mp4 (29/34), Frame: 1000/1220\n",
      "[Progress] Video: GreyGFall-2024-05-22-08-30.mp4 (29/34), Frame: 1200/1220\n",
      "[Progress] Video: HM2824-2024-02-08-15-10.mp4 (30/34), Frame: 200/610\n",
      "[Progress] Video: HM2824-2024-02-08-15-10.mp4 (30/34), Frame: 400/610\n",
      "[Progress] Video: HM2824-2024-02-08-15-10.mp4 (30/34), Frame: 600/610\n",
      "[Progress] Video: JRaccident-2023-01-26-07-55.mp4 (31/34), Frame: 200/583\n",
      "[Progress] Video: JRaccident-2023-01-26-07-55.mp4 (31/34), Frame: 400/583\n",
      "[Progress] Video: Kyla-2024-10-23-09-31.mp4 (32/34), Frame: 200/1210\n",
      "[Progress] Video: Kyla-2024-10-23-09-31.mp4 (32/34), Frame: 400/1210\n",
      "[Progress] Video: Kyla-2024-10-23-09-31.mp4 (32/34), Frame: 600/1210\n",
      "[Progress] Video: Kyla-2024-10-23-09-31.mp4 (32/34), Frame: 800/1210\n",
      "[Progress] Video: Kyla-2024-10-23-09-31.mp4 (32/34), Frame: 1000/1210\n",
      "[Progress] Video: Kyla-2024-10-23-09-31.mp4 (32/34), Frame: 1200/1210\n",
      "[Progress] Video: Part2-2024-12-11-16-43.mp4 (33/34), Frame: 200/1819\n",
      "[Progress] Video: Part2-2024-12-11-16-43.mp4 (33/34), Frame: 400/1819\n",
      "[Progress] Video: Part2-2024-12-11-16-43.mp4 (33/34), Frame: 600/1819\n",
      "[Progress] Video: Part2-2024-12-11-16-43.mp4 (33/34), Frame: 800/1819\n",
      "[Progress] Video: Part2-2024-12-11-16-43.mp4 (33/34), Frame: 1000/1819\n",
      "[Progress] Video: Part2-2024-12-11-16-43.mp4 (33/34), Frame: 1200/1819\n",
      "[Progress] Video: Part2-2024-12-11-16-43.mp4 (33/34), Frame: 1400/1819\n",
      "[Progress] Video: Part2-2024-12-11-16-43.mp4 (33/34), Frame: 1600/1819\n",
      "[Progress] Video: Part2-2024-12-11-16-43.mp4 (33/34), Frame: 1800/1819\n",
      "[Progress] Video: SeanLFall-2024-11-19-15-55.mp4 (34/34), Frame: 200/1207\n",
      "[Progress] Video: SeanLFall-2024-11-19-15-55.mp4 (34/34), Frame: 400/1207\n",
      "[Progress] Video: SeanLFall-2024-11-19-15-55.mp4 (34/34), Frame: 600/1207\n",
      "[Progress] Video: SeanLFall-2024-11-19-15-55.mp4 (34/34), Frame: 800/1207\n",
      "[Progress] Video: SeanLFall-2024-11-19-15-55.mp4 (34/34), Frame: 1000/1207\n",
      "[Progress] Video: SeanLFall-2024-11-19-15-55.mp4 (34/34), Frame: 1200/1207\n"
     ]
    }
   ],
   "source": [
    "\n",
    "# Define paths\n",
    "videos_dir = \"daycare_fall/Secaucus_data/merge_videos\"\n",
    "frames_dir = \"daycare_fall/Secaucus_data/merge_frames\"\n",
    "\n",
    "# List all video files\n",
    "video_list = merge_labels_df[\"video_id\"].unique()\n",
    "total_videos = len(video_list)\n",
    "\n",
    "# Store metadata for all frames\n",
    "frame_metadata = []\n",
    "\n",
    "for video_id, video_file in enumerate(video_list):\n",
    "    video_path = os.path.join(videos_dir, video_file)\n",
    "    original_video_id = video_file.replace(\".mp4\", \"\")\n",
    "    \n",
    "    if not os.path.exists(video_path):\n",
    "        print(f\"Video not found: {video_path}\")\n",
    "        continue\n",
    "\n",
    "    frames_save_dir = os.path.join(frames_dir, original_video_id)\n",
    "    os.makedirs(frames_save_dir, exist_ok=True)\n",
    "\n",
    "    cap = cv2.VideoCapture(video_path)\n",
    "    total_frames = int(cap.get(cv2.CAP_PROP_FRAME_COUNT))\n",
    "    frame_idx = 0\n",
    "\n",
    "    while cap.isOpened():\n",
    "        ret, frame = cap.read()\n",
    "        if not ret:\n",
    "            break\n",
    "\n",
    "        frame_filename = f\"{original_video_id}_{frame_idx+1:06d}.jpg\"\n",
    "        frame_path = os.path.join(frames_save_dir, frame_filename)\n",
    "        relative_path = os.path.join(original_video_id, frame_filename)\n",
    "\n",
    "        cv2.imwrite(frame_path, frame)\n",
    "\n",
    "        frame_metadata.append({\n",
    "            \"original_vido_id\": original_video_id,\n",
    "            \"video_id\": video_id,\n",
    "            \"frame_id\": frame_idx,\n",
    "            \"path\": relative_path,\n",
    "            \"labels\": \"\"\n",
    "        })\n",
    "\n",
    "        frame_idx += 1\n",
    "\n",
    "        if frame_idx % 200 == 0:\n",
    "            print(f\"[Progress] Video: {video_file} ({video_id + 1}/{total_videos}), \"\n",
    "                  f\"Frame: {frame_idx}/{total_frames}\")\n",
    "\n",
    "    cap.release()\n",
    "\n",
    "# Convert to DataFrame\n",
    "df = pd.DataFrame(frame_metadata)\n",
    "df[\"labels\"] = '\"\"'\n",
    "df.to_csv(\"daycare_fall/Secaucus_data/frame_metadata.csv\", sep=\" \", index=False, quoting=3)\n"
   ]
  },
  {
   "cell_type": "code",
   "execution_count": 157,
   "id": "3d643741-cda1-4e9f-bfd8-6c5923d654d1",
   "metadata": {},
   "outputs": [
    {
     "data": {
      "text/plain": [
       "array(['AaravFall-2022-02-22-13-34.mp4',\n",
       "       'Avyukt-Fall-2023-06-02-15-53.mp4',\n",
       "       'CrystalandKabir-2023-11-10-11-33.mp4',\n",
       "       'DanielleTable-2021-09-03-16-10.mp4',\n",
       "       'DanielleNap-2022-06-21-14-41.mp4', 'Easton-2022-08-24-16-58.mp4',\n",
       "       'IvaFall-2024-03-21-10-01.mp4',\n",
       "       'Jack-ActivityExclusion-2022-07-14-15-30.mp4',\n",
       "       'Jenine-gigi-2020-01-10-15-03.mp4',\n",
       "       'Jovan-Fall-2022-04-04-12-03.mp4', 'JudeFall-2024-01-26-09-17.mp4',\n",
       "       'Kelley-Car-2022-06-07-09-30.mp4', 'Kiko-2022-10-04-17-00.mp4',\n",
       "       'Kyle-2022-09-14-17-31.mp4', 'Kyle-Fall-2023-03-24-09-12.mp4',\n",
       "       'Mishaa-2022-08-10-11-23.mp4', 'Mishaa-2022-08-10-11-24.mp4',\n",
       "       'Mishafood-2022-08-10-11-22.mp4',\n",
       "       'Nitarasfall-2024-09-25-17-16.mp4',\n",
       "       'RiaanFall-2023-03-31-16-45.mp4',\n",
       "       'SalarTooth-2024-08-07-17-11.mp4',\n",
       "       'SantaraLeiaandClairefall-2024-08-01-17-43.mp4',\n",
       "       'Teachersattimeofincident-2022-08-26-17-08.mp4',\n",
       "       'AMIncident-2024-04-10-16-19.mp4',\n",
       "       'BSincident-2024-05-14-08-16.mp4', 'DSFall-2024-06-13-08-13.mp4',\n",
       "       'Drayden-2024-09-05-16-24.mp4',\n",
       "       'FyouinHTclassroom-2024-12-11-16-41.mp4',\n",
       "       'GreyGFall-2024-05-22-08-30.mp4', 'HM2824-2024-02-08-15-10.mp4',\n",
       "       'JRaccident-2023-01-26-07-55.mp4', 'Kyla-2024-10-23-09-31.mp4',\n",
       "       'Part2-2024-12-11-16-43.mp4', 'SeanLFall-2024-11-19-15-55.mp4'],\n",
       "      dtype=object)"
      ]
     },
     "execution_count": 157,
     "metadata": {},
     "output_type": "execute_result"
    }
   ],
   "source": [
    "video_list"
   ]
  },
  {
   "cell_type": "code",
   "execution_count": 159,
   "id": "0c238de0-89ae-4e48-99fb-898d10ed0e5d",
   "metadata": {},
   "outputs": [
    {
     "data": {
      "text/plain": [
       "34"
      ]
     },
     "execution_count": 159,
     "metadata": {},
     "output_type": "execute_result"
    }
   ],
   "source": [
    "len(video_list)"
   ]
  },
  {
   "cell_type": "code",
   "execution_count": 160,
   "id": "15df2eb0-eee9-4334-ac7d-f23fc07b7caa",
   "metadata": {},
   "outputs": [],
   "source": [
    "eval_videos = ['Teachersattimeofincident-2022-08-26-17-08.mp4',\n",
    " 'DanielleTable-2021-09-03-16-10.mp4',\n",
    " 'Jenine-gigi-2020-01-10-15-03.mp4',\n",
    " 'Easton-2022-08-24-16-58.mp4',\n",
    " 'Jack-ActivityExclusion-2022-07-14-15-30.mp4']\n",
    "\n",
    "train_videos = [video for video in video_list if video not in eval_videos]"
   ]
  },
  {
   "cell_type": "code",
   "execution_count": 162,
   "id": "9c504ca9-b558-416d-8715-28c193c77d0f",
   "metadata": {},
   "outputs": [
    {
     "data": {
      "text/plain": [
       "0      True\n",
       "1      True\n",
       "2      True\n",
       "3      True\n",
       "4      True\n",
       "       ... \n",
       "539    True\n",
       "540    True\n",
       "541    True\n",
       "542    True\n",
       "543    True\n",
       "Name: video_id, Length: 1305, dtype: bool"
      ]
     },
     "execution_count": 162,
     "metadata": {},
     "output_type": "execute_result"
    }
   ],
   "source": [
    "merge_labels_df[\"video_id\"].isin(train_videos)"
   ]
  },
  {
   "cell_type": "code",
   "execution_count": 163,
   "id": "112a8aa5-06d2-4704-8f99-8e9ffa680795",
   "metadata": {},
   "outputs": [
    {
     "data": {
      "text/plain": [
       "0      AaravFall-2022-02-22-13-34\n",
       "1      AaravFall-2022-02-22-13-34\n",
       "2      AaravFall-2022-02-22-13-34\n",
       "3      AaravFall-2022-02-22-13-34\n",
       "4      AaravFall-2022-02-22-13-34\n",
       "                  ...            \n",
       "539    SeanLFall-2024-11-19-15-55\n",
       "540    SeanLFall-2024-11-19-15-55\n",
       "541    SeanLFall-2024-11-19-15-55\n",
       "542    SeanLFall-2024-11-19-15-55\n",
       "543    SeanLFall-2024-11-19-15-55\n",
       "Name: video_id, Length: 1305, dtype: object"
      ]
     },
     "execution_count": 163,
     "metadata": {},
     "output_type": "execute_result"
    }
   ],
   "source": [
    "merge_labels_df[\"video_id\"].apply(lambda x: x.replace(\".mp4\", \"\"))"
   ]
  },
  {
   "cell_type": "code",
   "execution_count": 164,
   "id": "89825728-b956-4b77-864f-71eda8bd7933",
   "metadata": {},
   "outputs": [
    {
     "data": {
      "text/plain": [
       "['fall',\n",
       " 'standing',\n",
       " 'sitting',\n",
       " 'walking',\n",
       " 'crawling',\n",
       " 'sleeping',\n",
       " 'eating',\n",
       " 'jumping',\n",
       " 'others']"
      ]
     },
     "execution_count": 164,
     "metadata": {},
     "output_type": "execute_result"
    }
   ],
   "source": [
    "action_class_list"
   ]
  },
  {
   "cell_type": "code",
   "execution_count": 165,
   "id": "7803ce5f-35f3-464a-afbf-a74ed8e4ea3a",
   "metadata": {},
   "outputs": [
    {
     "data": {
      "text/plain": [
       "9"
      ]
     },
     "execution_count": 165,
     "metadata": {},
     "output_type": "execute_result"
    }
   ],
   "source": [
    "len(action_class_list)"
   ]
  },
  {
   "cell_type": "code",
   "execution_count": 166,
   "id": "8a1f5bd8-697c-4636-82c4-a0649037161c",
   "metadata": {},
   "outputs": [
    {
     "data": {
      "text/plain": [
       "{'fall': 1,\n",
       " 'standing': 2,\n",
       " 'sitting': 3,\n",
       " 'walking': 4,\n",
       " 'crawling': 5,\n",
       " 'sleeping': 6,\n",
       " 'eating': 7,\n",
       " 'jumping': 8,\n",
       " 'others': 9}"
      ]
     },
     "execution_count": 166,
     "metadata": {},
     "output_type": "execute_result"
    }
   ],
   "source": [
    "{y:x+1 for x,y in enumerate(action_class_list)}"
   ]
  },
  {
   "cell_type": "code",
   "execution_count": 167,
   "id": "e723fdaa-fc5e-464d-b93e-bd99f9eed547",
   "metadata": {},
   "outputs": [
    {
     "data": {
      "text/plain": [
       "0      0\n",
       "1      8\n",
       "2      0\n",
       "3      2\n",
       "4      8\n",
       "      ..\n",
       "539    3\n",
       "540    1\n",
       "541    3\n",
       "542    4\n",
       "543    3\n",
       "Name: class, Length: 1305, dtype: int64"
      ]
     },
     "execution_count": 167,
     "metadata": {},
     "output_type": "execute_result"
    }
   ],
   "source": [
    "merge_labels_df[\"class\"].map({'fall': 0,'standing': 1,'sitting': 2,'walking': 3,'crawling': 4,'sleeping': 5,'eating': 6,'jumping': 7,\n",
    "                                 'others': 8,'other': 8})"
   ]
  },
  {
   "cell_type": "code",
   "execution_count": 168,
   "id": "dcd3498f-c56d-4174-8044-01c005b459a9",
   "metadata": {},
   "outputs": [
    {
     "name": "stderr",
     "output_type": "stream",
     "text": [
      "/tmp/ipykernel_1181991/2976102714.py:2: SettingWithCopyWarning: \n",
      "A value is trying to be set on a copy of a slice from a DataFrame.\n",
      "Try using .loc[row_indexer,col_indexer] = value instead\n",
      "\n",
      "See the caveats in the documentation: https://pandas.pydata.org/pandas-docs/stable/user_guide/indexing.html#returning-a-view-versus-a-copy\n",
      "  train_labels_df[\"video_id\"] = train_labels_df[\"video_id\"].apply(lambda x: x.replace(\".mp4\", \"\"))\n",
      "/tmp/ipykernel_1181991/2976102714.py:3: SettingWithCopyWarning: \n",
      "A value is trying to be set on a copy of a slice from a DataFrame.\n",
      "Try using .loc[row_indexer,col_indexer] = value instead\n",
      "\n",
      "See the caveats in the documentation: https://pandas.pydata.org/pandas-docs/stable/user_guide/indexing.html#returning-a-view-versus-a-copy\n",
      "  train_labels_df[\"class\"] = train_labels_df[\"class\"].map({'fall': 0,'standing': 1,'sitting': 2,'walking': 3,'crawling': 4,'sleeping': 5,'eating': 6,'jumping': 7,\n",
      "/tmp/ipykernel_1181991/2976102714.py:5: SettingWithCopyWarning: \n",
      "A value is trying to be set on a copy of a slice from a DataFrame.\n",
      "Try using .loc[row_indexer,col_indexer] = value instead\n",
      "\n",
      "See the caveats in the documentation: https://pandas.pydata.org/pandas-docs/stable/user_guide/indexing.html#returning-a-view-versus-a-copy\n",
      "  train_labels_df[\"class\"] = train_labels_df[\"class\"] + 1\n",
      "/tmp/ipykernel_1181991/2976102714.py:8: SettingWithCopyWarning: \n",
      "A value is trying to be set on a copy of a slice from a DataFrame.\n",
      "Try using .loc[row_indexer,col_indexer] = value instead\n",
      "\n",
      "See the caveats in the documentation: https://pandas.pydata.org/pandas-docs/stable/user_guide/indexing.html#returning-a-view-versus-a-copy\n",
      "  eval_labels_df[\"video_id\"] = eval_labels_df[\"video_id\"].apply(lambda x: x.replace(\".mp4\", \"\"))\n",
      "/tmp/ipykernel_1181991/2976102714.py:9: SettingWithCopyWarning: \n",
      "A value is trying to be set on a copy of a slice from a DataFrame.\n",
      "Try using .loc[row_indexer,col_indexer] = value instead\n",
      "\n",
      "See the caveats in the documentation: https://pandas.pydata.org/pandas-docs/stable/user_guide/indexing.html#returning-a-view-versus-a-copy\n",
      "  eval_labels_df[\"class\"] = eval_labels_df[\"class\"].map({'fall': 0,'standing': 1,'sitting': 2,'walking': 3,'crawling': 4,'sleeping': 5,'eating': 6,'jumping': 7,\n",
      "/tmp/ipykernel_1181991/2976102714.py:11: SettingWithCopyWarning: \n",
      "A value is trying to be set on a copy of a slice from a DataFrame.\n",
      "Try using .loc[row_indexer,col_indexer] = value instead\n",
      "\n",
      "See the caveats in the documentation: https://pandas.pydata.org/pandas-docs/stable/user_guide/indexing.html#returning-a-view-versus-a-copy\n",
      "  eval_labels_df[\"class\"] = eval_labels_df[\"class\"] + 1\n",
      "/tmp/ipykernel_1181991/2976102714.py:12: SettingWithCopyWarning: \n",
      "A value is trying to be set on a copy of a slice from a DataFrame.\n",
      "Try using .loc[row_indexer,col_indexer] = value instead\n",
      "\n",
      "See the caveats in the documentation: https://pandas.pydata.org/pandas-docs/stable/user_guide/indexing.html#returning-a-view-versus-a-copy\n",
      "  eval_labels_df[\"conf\"] = 1.0\n"
     ]
    }
   ],
   "source": [
    "train_labels_df = merge_labels_df[merge_labels_df[\"video_id\"].isin(train_videos)]\n",
    "train_labels_df[\"video_id\"] = train_labels_df[\"video_id\"].apply(lambda x: x.replace(\".mp4\", \"\"))\n",
    "train_labels_df[\"class\"] = train_labels_df[\"class\"].map({'fall': 0,'standing': 1,'sitting': 2,'walking': 3,'crawling': 4,'sleeping': 5,'eating': 6,'jumping': 7,\n",
    "                                 'others': 8,'other': 8})\n",
    "train_labels_df[\"class\"] = train_labels_df[\"class\"] + 1\n",
    "\n",
    "eval_labels_df = merge_labels_df[merge_labels_df[\"video_id\"].isin(eval_videos)]\n",
    "eval_labels_df[\"video_id\"] = eval_labels_df[\"video_id\"].apply(lambda x: x.replace(\".mp4\", \"\"))\n",
    "eval_labels_df[\"class\"] = eval_labels_df[\"class\"].map({'fall': 0,'standing': 1,'sitting': 2,'walking': 3,'crawling': 4,'sleeping': 5,'eating': 6,'jumping': 7,\n",
    "                                 'others': 8,'other': 8})\n",
    "eval_labels_df[\"class\"] = eval_labels_df[\"class\"] + 1\n",
    "eval_labels_df[\"conf\"] = 1.0\n",
    "\n",
    "train_labels_df.to_csv(\"daycare_fall/Secaucus_data/annotations/train_labels.csv\", index=False, header=False)\n",
    "eval_labels_df.to_csv(\"daycare_fall/Secaucus_data/annotations/val_labels.csv\", index=False, header=False)"
   ]
  },
  {
   "cell_type": "code",
   "execution_count": 170,
   "id": "138fbd33-db39-475a-9da2-9762d458e132",
   "metadata": {},
   "outputs": [
    {
     "data": {
      "text/html": [
       "<div>\n",
       "<style scoped>\n",
       "    .dataframe tbody tr th:only-of-type {\n",
       "        vertical-align: middle;\n",
       "    }\n",
       "\n",
       "    .dataframe tbody tr th {\n",
       "        vertical-align: top;\n",
       "    }\n",
       "\n",
       "    .dataframe thead th {\n",
       "        text-align: right;\n",
       "    }\n",
       "</style>\n",
       "<table border=\"1\" class=\"dataframe\">\n",
       "  <thead>\n",
       "    <tr style=\"text-align: right;\">\n",
       "      <th></th>\n",
       "      <th>video_id</th>\n",
       "      <th>timestamp</th>\n",
       "      <th>x1</th>\n",
       "      <th>y1</th>\n",
       "      <th>x2</th>\n",
       "      <th>y2</th>\n",
       "      <th>class</th>\n",
       "    </tr>\n",
       "  </thead>\n",
       "  <tbody>\n",
       "    <tr>\n",
       "      <th>0</th>\n",
       "      <td>AaravFall-2022-02-22-13-34.mp4</td>\n",
       "      <td>10</td>\n",
       "      <td>0.33203</td>\n",
       "      <td>0.46528</td>\n",
       "      <td>0.40391</td>\n",
       "      <td>0.57361</td>\n",
       "      <td>fall</td>\n",
       "    </tr>\n",
       "    <tr>\n",
       "      <th>1</th>\n",
       "      <td>AaravFall-2022-02-22-13-34.mp4</td>\n",
       "      <td>10</td>\n",
       "      <td>0.13906</td>\n",
       "      <td>0.56389</td>\n",
       "      <td>0.19687</td>\n",
       "      <td>0.69167</td>\n",
       "      <td>other</td>\n",
       "    </tr>\n",
       "    <tr>\n",
       "      <th>2</th>\n",
       "      <td>AaravFall-2022-02-22-13-34.mp4</td>\n",
       "      <td>11</td>\n",
       "      <td>0.31875</td>\n",
       "      <td>0.46528</td>\n",
       "      <td>0.42344</td>\n",
       "      <td>0.58333</td>\n",
       "      <td>fall</td>\n",
       "    </tr>\n",
       "    <tr>\n",
       "      <th>3</th>\n",
       "      <td>AaravFall-2022-02-22-13-34.mp4</td>\n",
       "      <td>11</td>\n",
       "      <td>0.62422</td>\n",
       "      <td>0.43611</td>\n",
       "      <td>0.67266</td>\n",
       "      <td>0.54722</td>\n",
       "      <td>sitting</td>\n",
       "    </tr>\n",
       "    <tr>\n",
       "      <th>4</th>\n",
       "      <td>AaravFall-2022-02-22-13-34.mp4</td>\n",
       "      <td>11</td>\n",
       "      <td>0.13672</td>\n",
       "      <td>0.56806</td>\n",
       "      <td>0.20078</td>\n",
       "      <td>0.69722</td>\n",
       "      <td>other</td>\n",
       "    </tr>\n",
       "    <tr>\n",
       "      <th>...</th>\n",
       "      <td>...</td>\n",
       "      <td>...</td>\n",
       "      <td>...</td>\n",
       "      <td>...</td>\n",
       "      <td>...</td>\n",
       "      <td>...</td>\n",
       "      <td>...</td>\n",
       "    </tr>\n",
       "    <tr>\n",
       "      <th>539</th>\n",
       "      <td>SeanLFall-2024-11-19-15-55.mp4</td>\n",
       "      <td>7</td>\n",
       "      <td>0.18000</td>\n",
       "      <td>0.38100</td>\n",
       "      <td>0.05500</td>\n",
       "      <td>0.15800</td>\n",
       "      <td>walking</td>\n",
       "    </tr>\n",
       "    <tr>\n",
       "      <th>540</th>\n",
       "      <td>SeanLFall-2024-11-19-15-55.mp4</td>\n",
       "      <td>7</td>\n",
       "      <td>0.14500</td>\n",
       "      <td>0.33600</td>\n",
       "      <td>0.03700</td>\n",
       "      <td>0.12800</td>\n",
       "      <td>standing</td>\n",
       "    </tr>\n",
       "    <tr>\n",
       "      <th>541</th>\n",
       "      <td>SeanLFall-2024-11-19-15-55.mp4</td>\n",
       "      <td>7</td>\n",
       "      <td>0.44600</td>\n",
       "      <td>0.05800</td>\n",
       "      <td>0.02300</td>\n",
       "      <td>0.07000</td>\n",
       "      <td>walking</td>\n",
       "    </tr>\n",
       "    <tr>\n",
       "      <th>542</th>\n",
       "      <td>SeanLFall-2024-11-19-15-55.mp4</td>\n",
       "      <td>7</td>\n",
       "      <td>0.50900</td>\n",
       "      <td>0.40400</td>\n",
       "      <td>0.07000</td>\n",
       "      <td>0.08300</td>\n",
       "      <td>crawling</td>\n",
       "    </tr>\n",
       "    <tr>\n",
       "      <th>543</th>\n",
       "      <td>SeanLFall-2024-11-19-15-55.mp4</td>\n",
       "      <td>7</td>\n",
       "      <td>0.39100</td>\n",
       "      <td>0.05500</td>\n",
       "      <td>0.02300</td>\n",
       "      <td>0.10500</td>\n",
       "      <td>walking</td>\n",
       "    </tr>\n",
       "  </tbody>\n",
       "</table>\n",
       "<p>1305 rows × 7 columns</p>\n",
       "</div>"
      ],
      "text/plain": [
       "                           video_id  timestamp       x1       y1       x2  \\\n",
       "0    AaravFall-2022-02-22-13-34.mp4         10  0.33203  0.46528  0.40391   \n",
       "1    AaravFall-2022-02-22-13-34.mp4         10  0.13906  0.56389  0.19687   \n",
       "2    AaravFall-2022-02-22-13-34.mp4         11  0.31875  0.46528  0.42344   \n",
       "3    AaravFall-2022-02-22-13-34.mp4         11  0.62422  0.43611  0.67266   \n",
       "4    AaravFall-2022-02-22-13-34.mp4         11  0.13672  0.56806  0.20078   \n",
       "..                              ...        ...      ...      ...      ...   \n",
       "539  SeanLFall-2024-11-19-15-55.mp4          7  0.18000  0.38100  0.05500   \n",
       "540  SeanLFall-2024-11-19-15-55.mp4          7  0.14500  0.33600  0.03700   \n",
       "541  SeanLFall-2024-11-19-15-55.mp4          7  0.44600  0.05800  0.02300   \n",
       "542  SeanLFall-2024-11-19-15-55.mp4          7  0.50900  0.40400  0.07000   \n",
       "543  SeanLFall-2024-11-19-15-55.mp4          7  0.39100  0.05500  0.02300   \n",
       "\n",
       "          y2     class  \n",
       "0    0.57361      fall  \n",
       "1    0.69167     other  \n",
       "2    0.58333      fall  \n",
       "3    0.54722   sitting  \n",
       "4    0.69722     other  \n",
       "..       ...       ...  \n",
       "539  0.15800   walking  \n",
       "540  0.12800  standing  \n",
       "541  0.07000   walking  \n",
       "542  0.08300  crawling  \n",
       "543  0.10500   walking  \n",
       "\n",
       "[1305 rows x 7 columns]"
      ]
     },
     "execution_count": 170,
     "metadata": {},
     "output_type": "execute_result"
    }
   ],
   "source": [
    "merge_labels_df"
   ]
  },
  {
   "cell_type": "code",
   "execution_count": 106,
   "id": "b22420dd-2581-462b-9390-e9156c41826f",
   "metadata": {},
   "outputs": [
    {
     "data": {
      "text/plain": [
       "video_id      object\n",
       "timestamp      int64\n",
       "x1           float64\n",
       "y1           float64\n",
       "x2           float64\n",
       "y2            object\n",
       "class         object\n",
       "dtype: object"
      ]
     },
     "execution_count": 106,
     "metadata": {},
     "output_type": "execute_result"
    }
   ],
   "source": [
    "seacacus_labels_df.dtypes"
   ]
  },
  {
   "cell_type": "code",
   "execution_count": 178,
   "id": "63ca50f2-1269-40e7-b7ae-5539490801db",
   "metadata": {},
   "outputs": [
    {
     "data": {
      "text/plain": [
       "class\n",
       "sitting     429\n",
       "standing    406\n",
       "walking      79\n",
       "fall         72\n",
       "crawling     56\n",
       "others       21\n",
       "eating       21\n",
       "jumping       2\n",
       "Name: count, dtype: int64"
      ]
     },
     "execution_count": 178,
     "metadata": {},
     "output_type": "execute_result"
    }
   ],
   "source": [
    "action_class_list = ['', 'fall',\n",
    " 'standing',\n",
    " 'sitting',\n",
    " 'walking',\n",
    " 'crawling',\n",
    " 'sleeping',\n",
    " 'eating',\n",
    " 'jumping',\n",
    " 'others']\n",
    "train_labels_df[\"class\"].apply(lambda x: action_class_list[x]).value_counts()"
   ]
  },
  {
   "cell_type": "code",
   "execution_count": 179,
   "id": "79f2fb51-8e16-4ddd-80df-d02072735737",
   "metadata": {},
   "outputs": [
    {
     "data": {
      "text/plain": [
       "class\n",
       "standing    100\n",
       "sitting      74\n",
       "sleeping     25\n",
       "fall         12\n",
       "crawling      8\n",
       "Name: count, dtype: int64"
      ]
     },
     "execution_count": 179,
     "metadata": {},
     "output_type": "execute_result"
    }
   ],
   "source": [
    "eval_labels_df[\"class\"].apply(lambda x: action_class_list[x]).value_counts()"
   ]
  },
  {
   "cell_type": "code",
   "execution_count": 175,
   "id": "953550b1-bd99-48a9-ba87-2f29ab204cd6",
   "metadata": {},
   "outputs": [
    {
     "data": {
      "text/plain": [
       "['fall',\n",
       " 'standing',\n",
       " 'sitting',\n",
       " 'walking',\n",
       " 'crawling',\n",
       " 'sleeping',\n",
       " 'eating',\n",
       " 'jumping',\n",
       " 'others']"
      ]
     },
     "execution_count": 175,
     "metadata": {},
     "output_type": "execute_result"
    }
   ],
   "source": [
    "['fall',\n",
    " 'standing',\n",
    " 'sitting',\n",
    " 'walking',\n",
    " 'crawling',\n",
    " 'sleeping',\n",
    " 'eating',\n",
    " 'jumping',\n",
    " 'others']"
   ]
  },
  {
   "cell_type": "code",
   "execution_count": 96,
   "id": "c802c5fd-7cae-4606-b821-288676683fc4",
   "metadata": {},
   "outputs": [
    {
     "data": {
      "text/html": [
       "<div>\n",
       "<style scoped>\n",
       "    .dataframe tbody tr th:only-of-type {\n",
       "        vertical-align: middle;\n",
       "    }\n",
       "\n",
       "    .dataframe tbody tr th {\n",
       "        vertical-align: top;\n",
       "    }\n",
       "\n",
       "    .dataframe thead th {\n",
       "        text-align: right;\n",
       "    }\n",
       "</style>\n",
       "<table border=\"1\" class=\"dataframe\">\n",
       "  <thead>\n",
       "    <tr style=\"text-align: right;\">\n",
       "      <th></th>\n",
       "      <th>video_id</th>\n",
       "      <th>timestamp</th>\n",
       "      <th>x1</th>\n",
       "      <th>y1</th>\n",
       "      <th>x2</th>\n",
       "      <th>y2</th>\n",
       "      <th>class</th>\n",
       "      <th>conf</th>\n",
       "    </tr>\n",
       "  </thead>\n",
       "  <tbody>\n",
       "    <tr>\n",
       "      <th>118</th>\n",
       "      <td>DanielleTable-2021-09-03-16-10</td>\n",
       "      <td>5</td>\n",
       "      <td>0.51484</td>\n",
       "      <td>0.15000</td>\n",
       "      <td>0.58281</td>\n",
       "      <td>0.34167</td>\n",
       "      <td>2</td>\n",
       "      <td>1.0</td>\n",
       "    </tr>\n",
       "    <tr>\n",
       "      <th>119</th>\n",
       "      <td>DanielleTable-2021-09-03-16-10</td>\n",
       "      <td>5</td>\n",
       "      <td>0.12422</td>\n",
       "      <td>0.36667</td>\n",
       "      <td>0.18672</td>\n",
       "      <td>0.50278</td>\n",
       "      <td>2</td>\n",
       "      <td>1.0</td>\n",
       "    </tr>\n",
       "    <tr>\n",
       "      <th>120</th>\n",
       "      <td>DanielleTable-2021-09-03-16-10</td>\n",
       "      <td>5</td>\n",
       "      <td>0.31250</td>\n",
       "      <td>0.28889</td>\n",
       "      <td>0.36094</td>\n",
       "      <td>0.41528</td>\n",
       "      <td>2</td>\n",
       "      <td>1.0</td>\n",
       "    </tr>\n",
       "    <tr>\n",
       "      <th>121</th>\n",
       "      <td>DanielleTable-2021-09-03-16-10</td>\n",
       "      <td>5</td>\n",
       "      <td>0.52812</td>\n",
       "      <td>0.91111</td>\n",
       "      <td>0.59766</td>\n",
       "      <td>0.99722</td>\n",
       "      <td>2</td>\n",
       "      <td>1.0</td>\n",
       "    </tr>\n",
       "    <tr>\n",
       "      <th>122</th>\n",
       "      <td>DanielleTable-2021-09-03-16-10</td>\n",
       "      <td>5</td>\n",
       "      <td>0.43828</td>\n",
       "      <td>0.16667</td>\n",
       "      <td>0.48906</td>\n",
       "      <td>0.375</td>\n",
       "      <td>1</td>\n",
       "      <td>1.0</td>\n",
       "    </tr>\n",
       "    <tr>\n",
       "      <th>...</th>\n",
       "      <td>...</td>\n",
       "      <td>...</td>\n",
       "      <td>...</td>\n",
       "      <td>...</td>\n",
       "      <td>...</td>\n",
       "      <td>...</td>\n",
       "      <td>...</td>\n",
       "      <td>...</td>\n",
       "    </tr>\n",
       "    <tr>\n",
       "      <th>389</th>\n",
       "      <td>Jenine-gigi-2020-01-10-15-03</td>\n",
       "      <td>175</td>\n",
       "      <td>0.84062</td>\n",
       "      <td>0.42778</td>\n",
       "      <td>0.90859</td>\n",
       "      <td>0.53194</td>\n",
       "      <td>2</td>\n",
       "      <td>1.0</td>\n",
       "    </tr>\n",
       "    <tr>\n",
       "      <th>757</th>\n",
       "      <td>Teachersattimeofincident-2022-08-26-17-08</td>\n",
       "      <td>8</td>\n",
       "      <td>0.95703</td>\n",
       "      <td>0.59861</td>\n",
       "      <td>0.99922</td>\n",
       "      <td>0.75972</td>\n",
       "      <td>1</td>\n",
       "      <td>1.0</td>\n",
       "    </tr>\n",
       "    <tr>\n",
       "      <th>758</th>\n",
       "      <td>Teachersattimeofincident-2022-08-26-17-08</td>\n",
       "      <td>10</td>\n",
       "      <td>0.93750</td>\n",
       "      <td>0.57639</td>\n",
       "      <td>0.98750</td>\n",
       "      <td>0.75833</td>\n",
       "      <td>0</td>\n",
       "      <td>1.0</td>\n",
       "    </tr>\n",
       "    <tr>\n",
       "      <th>759</th>\n",
       "      <td>Teachersattimeofincident-2022-08-26-17-08</td>\n",
       "      <td>11</td>\n",
       "      <td>0.94453</td>\n",
       "      <td>0.60417</td>\n",
       "      <td>0.97891</td>\n",
       "      <td>0.725</td>\n",
       "      <td>0</td>\n",
       "      <td>1.0</td>\n",
       "    </tr>\n",
       "    <tr>\n",
       "      <th>760</th>\n",
       "      <td>Teachersattimeofincident-2022-08-26-17-08</td>\n",
       "      <td>12</td>\n",
       "      <td>0.95391</td>\n",
       "      <td>0.62639</td>\n",
       "      <td>0.98828</td>\n",
       "      <td>0.70417</td>\n",
       "      <td>0</td>\n",
       "      <td>1.0</td>\n",
       "    </tr>\n",
       "  </tbody>\n",
       "</table>\n",
       "<p>219 rows × 8 columns</p>\n",
       "</div>"
      ],
      "text/plain": [
       "                                      video_id  timestamp       x1       y1  \\\n",
       "118             DanielleTable-2021-09-03-16-10          5  0.51484  0.15000   \n",
       "119             DanielleTable-2021-09-03-16-10          5  0.12422  0.36667   \n",
       "120             DanielleTable-2021-09-03-16-10          5  0.31250  0.28889   \n",
       "121             DanielleTable-2021-09-03-16-10          5  0.52812  0.91111   \n",
       "122             DanielleTable-2021-09-03-16-10          5  0.43828  0.16667   \n",
       "..                                         ...        ...      ...      ...   \n",
       "389               Jenine-gigi-2020-01-10-15-03        175  0.84062  0.42778   \n",
       "757  Teachersattimeofincident-2022-08-26-17-08          8  0.95703  0.59861   \n",
       "758  Teachersattimeofincident-2022-08-26-17-08         10  0.93750  0.57639   \n",
       "759  Teachersattimeofincident-2022-08-26-17-08         11  0.94453  0.60417   \n",
       "760  Teachersattimeofincident-2022-08-26-17-08         12  0.95391  0.62639   \n",
       "\n",
       "          x2       y2  class  conf  \n",
       "118  0.58281  0.34167      2   1.0  \n",
       "119  0.18672  0.50278      2   1.0  \n",
       "120  0.36094  0.41528      2   1.0  \n",
       "121  0.59766  0.99722      2   1.0  \n",
       "122  0.48906    0.375      1   1.0  \n",
       "..       ...      ...    ...   ...  \n",
       "389  0.90859  0.53194      2   1.0  \n",
       "757  0.99922  0.75972      1   1.0  \n",
       "758  0.98750  0.75833      0   1.0  \n",
       "759  0.97891    0.725      0   1.0  \n",
       "760  0.98828  0.70417      0   1.0  \n",
       "\n",
       "[219 rows x 8 columns]"
      ]
     },
     "execution_count": 96,
     "metadata": {},
     "output_type": "execute_result"
    }
   ],
   "source": [
    "eval_labels_df"
   ]
  },
  {
   "cell_type": "code",
   "execution_count": 171,
   "id": "142a34ef-ceda-4d87-8597-c4009f026065",
   "metadata": {},
   "outputs": [],
   "source": [
    "\n",
    "def filter_frame_list_ava_csv(file_path, output_path, video_ids):\n",
    "    df = pd.read_csv(file_path, sep=r'\\s+', engine='python')\n",
    "    filtered_df = df[df[\"original_vido_id\"].isin(video_ids)]\n",
    "    filtered_df[\"labels\"] = '\"\"'\n",
    "    filtered_df.to_csv(output_path, sep=\" \", index=False, quoting=3)\n",
    "    print(f\"✔ Saved {len(filtered_df)} rows to {output_path}\")\n"
   ]
  },
  {
   "cell_type": "code",
   "execution_count": 172,
   "id": "92de5255-ef35-4ea5-a68f-3d28e4fa2838",
   "metadata": {},
   "outputs": [
    {
     "name": "stderr",
     "output_type": "stream",
     "text": [
      "/tmp/ipykernel_1181991/1377760862.py:4: SettingWithCopyWarning: \n",
      "A value is trying to be set on a copy of a slice from a DataFrame.\n",
      "Try using .loc[row_indexer,col_indexer] = value instead\n",
      "\n",
      "See the caveats in the documentation: https://pandas.pydata.org/pandas-docs/stable/user_guide/indexing.html#returning-a-view-versus-a-copy\n",
      "  filtered_df[\"labels\"] = '\"\"'\n"
     ]
    },
    {
     "name": "stdout",
     "output_type": "stream",
     "text": [
      "✔ Saved 30111 rows to daycare_fall/Secaucus_data/annotations/train_frames.csv\n",
      "✔ Saved 41367 rows to daycare_fall/Secaucus_data/annotations/eval_frames.csv\n"
     ]
    },
    {
     "name": "stderr",
     "output_type": "stream",
     "text": [
      "/tmp/ipykernel_1181991/1377760862.py:4: SettingWithCopyWarning: \n",
      "A value is trying to be set on a copy of a slice from a DataFrame.\n",
      "Try using .loc[row_indexer,col_indexer] = value instead\n",
      "\n",
      "See the caveats in the documentation: https://pandas.pydata.org/pandas-docs/stable/user_guide/indexing.html#returning-a-view-versus-a-copy\n",
      "  filtered_df[\"labels\"] = '\"\"'\n"
     ]
    }
   ],
   "source": [
    "filter_frame_list_ava_csv(\"daycare_fall/Secaucus_data/frame_metadata.csv\", \"daycare_fall/Secaucus_data/annotations/train_frames.csv\", [video.replace(\".mp4\", \"\") for video in train_videos])\n",
    "filter_frame_list_ava_csv(\"daycare_fall/Secaucus_data/frame_metadata.csv\", \"daycare_fall/Secaucus_data/annotations/eval_frames.csv\", [video.replace(\".mp4\", \"\") for video in eval_videos])"
   ]
  },
  {
   "cell_type": "code",
   "execution_count": 173,
   "id": "fcde42ff-be58-4006-8c1c-c8790a8dc8b9",
   "metadata": {},
   "outputs": [
    {
     "data": {
      "text/plain": [
       "['Teachersattimeofincident-2022-08-26-17-08.mp4',\n",
       " 'DanielleTable-2021-09-03-16-10.mp4',\n",
       " 'Jenine-gigi-2020-01-10-15-03.mp4',\n",
       " 'Easton-2022-08-24-16-58.mp4',\n",
       " 'Jack-ActivityExclusion-2022-07-14-15-30.mp4']"
      ]
     },
     "execution_count": 173,
     "metadata": {},
     "output_type": "execute_result"
    }
   ],
   "source": [
    "eval_videos"
   ]
  },
  {
   "cell_type": "code",
   "execution_count": null,
   "id": "f8e440fc-adc7-46bc-ae03-e2b65bb3be89",
   "metadata": {},
   "outputs": [],
   "source": []
  }
 ],
 "metadata": {
  "kernelspec": {
   "display_name": "Python (3.9.21)",
   "language": "python",
   "name": "py39"
  },
  "language_info": {
   "codemirror_mode": {
    "name": "ipython",
    "version": 3
   },
   "file_extension": ".py",
   "mimetype": "text/x-python",
   "name": "python",
   "nbconvert_exporter": "python",
   "pygments_lexer": "ipython3",
   "version": "3.9.21"
  }
 },
 "nbformat": 4,
 "nbformat_minor": 5
}
